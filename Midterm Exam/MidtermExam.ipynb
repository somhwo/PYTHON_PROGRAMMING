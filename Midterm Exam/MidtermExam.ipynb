{
 "cells": [
  {
   "cell_type": "markdown",
   "id": "7c085557-c845-494c-9a2c-608c67539455",
   "metadata": {},
   "source": [
    "Q1. String Normalizer & Finder."
   ]
  },
  {
   "cell_type": "markdown",
   "id": "68bf5410-347e-466f-9a86-1ea724886244",
   "metadata": {},
   "source": [
    "Prompt: Write a function normalize_and_find(text: str, needle: str) -> int that: (1) trims whitespace on both ends, (2) converts to lowercase, then (3) returns the index of the first occurrence of needle using a safe search (return −1 if not found). Add a quick test."
   ]
  },
  {
   "cell_type": "code",
   "execution_count": 3,
   "id": "48195ae6-4951-476f-a3dc-5c8dc418b14f",
   "metadata": {},
   "outputs": [
    {
     "name": "stdout",
     "output_type": "stream",
     "text": [
      "6\n",
      "0\n",
      "-1\n"
     ]
    }
   ],
   "source": [
    "# ChatGPT Code:\n",
    "def normalize_and_find(text: str, needle: str) -> int:\n",
    "    \"\"\"\n",
    "    (1) Trims whitespace on both ends\n",
    "    (2) Converts both text and needle to lowercase\n",
    "    (3) Returns the index of the first occurrence of needle\n",
    "        using a safe search (returns -1 if not found)\n",
    "    \"\"\"\n",
    "    # Step 1 & 2: Trim whitespace and convert to lowercase\n",
    "    normalized_text = text.strip().lower()\n",
    "    needle = needle.lower()\n",
    "\n",
    "    # Step 3: Safe search using find() – returns -1 if not found\n",
    "    return normalized_text.find(needle)\n",
    "\n",
    "\n",
    "# 🔍 Quick test\n",
    "if __name__ == \"__main__\":\n",
    "    print(normalize_and_find(\"   Hello World  \", \"world\"))  # Expected: 6\n",
    "    print(normalize_and_find(\"Python is Fun\", \"PYTHON\"))    # Expected: 0\n",
    "    print(normalize_and_find(\"No match here\", \"java\"))      # Expected: -1"
   ]
  },
  {
   "cell_type": "markdown",
   "id": "0ca1160f-e48a-41fd-bcf6-c161b5999b89",
   "metadata": {},
   "source": [
    "Critique:\n",
    "\n",
    "Correctness: Trims whitespace, normalizes case, and finds the substring as specified; matches expected behavior for all test cases\n",
    "\n",
    "Complexity: O(n) time, O(1) space; optimal for a single pass over the string \n",
    "\n",
    "Robustness: Handles empty strings and missing matches; could add type checks for safer input \n",
    "\n",
    "Readability: Clear function and variable names, includes a docstring and tests; follows PEP 8 and lecture style \n",
    "\n",
    "Faithfulness: Uses .strip(), .lower(), and .find() as taught in lecture examples (String Methods, Searching in Strings)"
   ]
  },
  {
   "cell_type": "code",
   "execution_count": 17,
   "id": "bf88d3ea-ef02-49a8-8f4e-ff7254c18584",
   "metadata": {},
   "outputs": [
    {
     "name": "stdout",
     "output_type": "stream",
     "text": [
      "6\n",
      "0\n",
      "-1\n",
      "0\n",
      "-1\n",
      "-1\n",
      "-1\n"
     ]
    }
   ],
   "source": [
    "#Improved Code:\n",
    "def normalize_and_find(text, needle):\n",
    "    if not isinstance(text, str):\n",
    "        return -1\n",
    "    if not isinstance(needle, str):\n",
    "        return -1\n",
    "\n",
    "    normalized_text = text.strip().lower()\n",
    "    normalized_needle = needle.lower()\n",
    "\n",
    "    return normalized_text.find(normalized_needle)\n",
    "\n",
    "\n",
    "if __name__ == \"__main__\":\n",
    "    print(normalize_and_find(\"   Hello World  \", \"world\"))  \n",
    "    print(normalize_and_find(\"Python is Fun\", \"PYTHON\"))    \n",
    "    print(normalize_and_find(\"No match here\", \"java\")) \n",
    "    print(normalize_and_find(\"\", \"\"))                    \n",
    "    print(normalize_and_find(\" text \", \" \"))                 \n",
    "    print(normalize_and_find(None, \"test\"))           \n",
    "    print(normalize_and_find(\"test\", None))              "
   ]
  },
  {
   "cell_type": "markdown",
   "id": "ac4c61a6-e15e-4e5d-ab7c-c465f5f173b4",
   "metadata": {},
   "source": [
    "I use find() because it returns -1 if the substring isn't found, which keeps my code safe and simple, avoiding exceptions. Unlike index(), which raises an error when the substring is missing, find() lets me handle missing values gracefully. I also strip whitespace and convert strings to lowercase for reliable, case-insensitive matches. Since strings are immutable, I create new normalized strings as taught in the lecture on string methods and immutability. This approach balances error handling and clarity effectively."
   ]
  },
  {
   "cell_type": "markdown",
   "id": "afb9816f-53b3-4192-87c1-2b95928595f2",
   "metadata": {},
   "source": [
    "Citations:\n",
    "\n",
    "String methods: .strip(), .lower() for normalization \n",
    "\n",
    "Type checking and error handling: isinstance() and returning -1 for invalid input​\n",
    "\n",
    "Substring search: .find() for locating substrings ​"
   ]
  },
  {
   "cell_type": "markdown",
   "id": "a78d9154-29f5-481b-9753-c2bf6b436f98",
   "metadata": {},
   "source": [
    "Q2. Leetspeak Translator (Parametric)."
   ]
  },
  {
   "cell_type": "markdown",
   "id": "e75212d8-d938-4ef5-918d-b72beb0418d8",
   "metadata": {},
   "source": [
    "Prompt: Generalize our leetspeak idea: write translate(text:\n",
    "str, mapping: dict[str,str]) -> str that applies a mapping (e.g., {’a’:’4’,’e’:’3’,...})\n",
    "over lowercase letters only, leaving others unchanged. Add a quick test."
   ]
  },
  {
   "cell_type": "code",
   "execution_count": 7,
   "id": "dfc48b60-57c2-477d-b70e-eddec37a4175",
   "metadata": {},
   "outputs": [
    {
     "name": "stdout",
     "output_type": "stream",
     "text": [
      "L33t5p34k 15 4w350m3!\n"
     ]
    }
   ],
   "source": [
    "# ChatGPT Code:\n",
    "\n",
    "def translate(text: str, mapping: dict[str, str]) -> str:\n",
    "    \"\"\"Translate lowercase letters in `text` based on `mapping`.\"\"\"\n",
    "    result = []  # use list for efficiency\n",
    "    for ch in text:\n",
    "        # replace only lowercase letters if in mapping\n",
    "        result.append(mapping.get(ch, ch))\n",
    "    return ''.join(result)\n",
    "\n",
    "\n",
    "# 🔍 Quick test\n",
    "if __name__ == \"__main__\":\n",
    "    leet_map = {'a': '4', 'e': '3', 'i': '1', 'o': '0', 's': '5'}\n",
    "    sample = \"Leetspeak is awesome!\"\n",
    "    print(translate(sample, leet_map))\n",
    "    # Expected output: \"L33t5p34k 15 4w350m3!\""
   ]
  },
  {
   "cell_type": "markdown",
   "id": "f8b0d2e4-3486-4e3b-bd19-27aa924e9eb6",
   "metadata": {},
   "source": [
    "Critique:\n",
    "\n",
    "Correctness: The function uses round for banker's rounding and formats currency with commas and two decimals, matching standard money output. Tests include ties and extra decimals, but floating-point quirks may affect some results.\n",
    "\n",
    "Complexity: Runs in constant time and space, as it does a fixed number of operations for any input.\n",
    "\n",
    "Robustness: Assumes float input; no checks for other types or special values like nan or inf.\n",
    "\n",
    "Readability/Style: Code is clear, with a good name, docstring, and comment. F-string formatting is concise.\n",
    "\n",
    "Faithfulness: Uses round and f-string formatting as shown in the lecture for rounding and printing numbers."
   ]
  },
  {
   "cell_type": "code",
   "execution_count": 8,
   "id": "31e098ac-578b-4751-bd8b-1efde938abba",
   "metadata": {},
   "outputs": [
    {
     "name": "stdout",
     "output_type": "stream",
     "text": [
      "L33t5p34k 15 4w350m3!\n"
     ]
    }
   ],
   "source": [
    "# Improved Code:\n",
    "def translate(text: str, mapping: dict[str, str]) -> str:\n",
    "\n",
    "    if not isinstance(text, str):\n",
    "        raise TypeError(\"Input text must be a string.\")\n",
    "    if not isinstance(mapping, dict):\n",
    "        raise TypeError(\"Mapping must be a dictionary.\")\n",
    "    \n",
    "    result = []\n",
    "    for ch in text:\n",
    "        if ch.islower() and ch in mapping:\n",
    "            result.append(mapping[ch])\n",
    "        else:\n",
    "            result.append(ch)\n",
    "    return ''.join(result)\n",
    "\n",
    "if __name__ == \"__main__\":\n",
    "    leet_map = {'a': '4', 'e': '3', 'i': '1', 'o': '0', 's': '5'}\n",
    "    sample = \"Leetspeak is awesome!\"\n",
    "    translated = translate(sample, leet_map)\n",
    "    print(translated)  # Expected output: \"L33t5p34k 15 4w350m3!\""
   ]
  },
  {
   "cell_type": "markdown",
   "id": "8d3ecf17-b18c-467a-8b4f-26826e31fa8e",
   "metadata": {},
   "source": [
    "Strings are immutable in Python, meaning I can't change them once created. So, instead of concatenating repeatedly (which is slow because each concatenation creates a new string), I collect characters in a list and join them at the end. This approach is efficient and preferred, as explained in the lectures on string immutability and iteration strategies. Using .replace helps selectively swap substrings but is less flexible for character-by-character changes, so iteration with list appending and joining is a better fit here for performance and clarity."
   ]
  },
  {
   "cell_type": "markdown",
   "id": "5ab6855a-85de-476a-9da1-f47c5ecf312e",
   "metadata": {},
   "source": [
    "Citations\n",
    "\n",
    "Functions and Loops\n",
    "\n",
    "The Try and Except Keyword, Conditional Logic\n",
    "\n",
    "Dictionaries, List Methods for Adding and Removing Elements"
   ]
  },
  {
   "cell_type": "markdown",
   "id": "e2e03389-9628-4c91-a56e-279f6c1f2ed1",
   "metadata": {},
   "source": [
    "Q3. Currency Formatter & Rounding Ties-to-Even."
   ]
  },
  {
   "cell_type": "markdown",
   "id": "0eeb62ca-ed2d-4fc7-9ee6-c46c068ff39e",
   "metadata": {},
   "source": [
    "Prompt:\n",
    "Write fmt_money(x: float)\n",
    "-> str that returns a string like 1,234.50 using proper rounding (banker’s rounding / ties-to-even). Include test cases that demonstrate ties (e.g., 2.5, 3.5). Add a quick test."
   ]
  },
  {
   "cell_type": "code",
   "execution_count": 9,
   "id": "417245a4-f2f9-4680-88d9-ba12688caee6",
   "metadata": {},
   "outputs": [
    {
     "name": "stdout",
     "output_type": "stream",
     "text": [
      "1234.5 -> 1,234.50\n",
      "1234.567 -> 1,234.57\n",
      "   2.5 -> 2.50\n",
      "   3.5 -> 3.50\n",
      " 1.005 -> 1.00\n",
      " 1.015 -> 1.01\n",
      "  -2.5 -> -2.50\n",
      "  -3.5 -> -3.50\n"
     ]
    }
   ],
   "source": [
    "# ChatGPT Code:\n",
    "def fmt_money(x: float) -> str:\n",
    "    \"\"\"Return a string like '1,234.50' using banker's rounding (ties-to-even).\"\"\"\n",
    "    # round(x, 2) in Python already uses banker's rounding\n",
    "    rounded = round(x, 2)\n",
    "    return f\"{rounded:,.2f}\"\n",
    "\n",
    "\n",
    "# 🔍 Quick tests\n",
    "if __name__ == \"__main__\":\n",
    "    tests = [1234.5, 1234.567, 2.5, 3.5, 1.005, 1.015, -2.5, -3.5]\n",
    "    for t in tests:\n",
    "        print(f\"{t:6} -> {fmt_money(t)}\")"
   ]
  },
  {
   "cell_type": "markdown",
   "id": "73772620-89b3-4fd3-a4ed-273ffcf5721f",
   "metadata": {},
   "source": [
    "Critique\n",
    "\n",
    "Correctness: The function uses round for banker's rounding and formats currency with commas and two decimals, matching standard money output. Tests include ties and extra decimals, but floating-point quirks may affect some results.\n",
    "\n",
    "Complexity: Runs in constant time and space, doing a fixed number of steps for any input.\n",
    "\n",
    "Robustness: Assumes float input; no checks for other types or special values like nan or inf.\n",
    "\n",
    "Readability/Style: Code is clear, with a good name, docstring, and comment. F-string formatting is concise.\n",
    "\n",
    "Faithfulness: Uses round and f-string formatting as shown in the lecture for rounding and printing numbers."
   ]
  },
  {
   "cell_type": "code",
   "execution_count": 11,
   "id": "2466e280-e93f-412c-b919-df13ec2af688",
   "metadata": {},
   "outputs": [
    {
     "name": "stdout",
     "output_type": "stream",
     "text": [
      "1234.5 -> 1,234.50\n",
      "1234.567 -> 1,234.57\n",
      "   2.5 -> 2.50\n",
      "   3.5 -> 3.50\n",
      " 1.005 -> 1.00\n",
      " 1.015 -> 1.01\n",
      "  -2.5 -> -2.50\n",
      "  -3.5 -> -3.50\n"
     ]
    }
   ],
   "source": [
    "# Improved Code:\n",
    "def fmt_money(x: float) -> str:\n",
    "    \"\"\"Return a string like '1,234.50' using banker's rounding (ties-to-even).\"\"\"\n",
    "    rounded = round(x, 2)\n",
    "    return f\"{rounded:,.2f}\"\n",
    "\n",
    "# Quick tests\n",
    "if __name__ == \"__main__\":\n",
    "    tests = [1234.5, 1234.567, 2.5, 3.5, 1.005, 1.015, -2.5, -3.5]\n",
    "    for t in tests:\n",
    "        print(f\"{t:6} -> {fmt_money(t)}\")"
   ]
  },
  {
   "cell_type": "markdown",
   "id": "10568db4-8f72-4770-a8a8-e2975bea6659",
   "metadata": {},
   "source": [
    "I see floating-point errors all the time in Python, just like the lessons show. First, some decimals like 0.1 or 1.005 can't be stored exactly in binary, so calculations like round(1.005, 2) might not give the result I expect. Second, when I print numbers, formatting with f\"{x:.2f}\" helps hide those tiny errors and makes the output look clean, just like the lesson examples with formatted printing and rounding. This is why I always use round() and formatted strings for money—it's straight from our notes on numbers and display."
   ]
  },
  {
   "cell_type": "markdown",
   "id": "c3017663-e53e-46a2-b700-0d4709a86fbe",
   "metadata": {},
   "source": [
    "Citations\n",
    "\n",
    "Arithmetic Operations and Expressions, Floating-Point Representation Error, Math Functions, Functions, The Try and Except Keyword"
   ]
  },
  {
   "cell_type": "markdown",
   "id": "bf20256f-c3fe-4b5f-af71-60a6efab9849",
   "metadata": {},
   "source": [
    "Q4. Exponent Tool & Input Validation. "
   ]
  },
  {
   "cell_type": "markdown",
   "id": "76723a89-b454-4182-a427-1dfa43cc3e9a",
   "metadata": {},
   "source": [
    "Prompt: Create a CLI program exponent.py that reads two values, validates they are numeric, handles errors gracefully (e.g., ValueError), and prints a ** b with clear messages. Add a quick test."
   ]
  },
  {
   "cell_type": "code",
   "execution_count": 10,
   "id": "edd3ed73-c377-4e5b-bc09-2b6e050d600f",
   "metadata": {},
   "outputs": [
    {
     "name": "stdin",
     "output_type": "stream",
     "text": [
      "Enter base (a):  3\n",
      "Enter exponent (b):  9\n"
     ]
    },
    {
     "name": "stdout",
     "output_type": "stream",
     "text": [
      "\n",
      "Result: 3.0 ** 9.0 = 19683.0\n"
     ]
    }
   ],
   "source": [
    "# ChatGPT Code:\n",
    "#!/usr/bin/env python3\n",
    "\n",
    "def main():\n",
    "    \"\"\"Read two numeric inputs and print a ** b with proper error handling.\"\"\"\n",
    "    try:\n",
    "        # Read inputs\n",
    "        a_str = input(\"Enter base (a): \")\n",
    "        b_str = input(\"Enter exponent (b): \")\n",
    "\n",
    "        # Try converting to float\n",
    "        a = float(a_str)\n",
    "        b = float(b_str)\n",
    "\n",
    "        # Compute exponentiation\n",
    "        result = a ** b\n",
    "        print(f\"\\nResult: {a} ** {b} = {result}\")\n",
    "\n",
    "    except ValueError:\n",
    "        print(\"\\nError: Both inputs must be valid numbers.\")\n",
    "    except OverflowError:\n",
    "        print(\"\\nError: Result is too large to compute.\")\n",
    "    except Exception as e:\n",
    "        print(f\"\\nUnexpected error: {e}\")\n",
    "\n",
    "\n",
    "# 🔍 Quick test (only runs when executed directly)\n",
    "if __name__ == \"__main__\":\n",
    "    main()"
   ]
  },
  {
   "cell_type": "markdown",
   "id": "1d60fb11-2240-42a5-9126-6181bf6e2888",
   "metadata": {},
   "source": [
    "Critique:\n",
    "\n",
    "Correctness:\n",
    "\n",
    "The code correctly reads two inputs, converts them to floats, and computes exponentiation using a ** b. It handles ValueError (bad input), OverflowError (result too large), and any other exception. The output matches the expected format for exponentiation.\n",
    "\n",
    "Time & Space Complexity:\n",
    "\n",
    "Time: All operations (input, conversion, exponentiation, print) are O(1) except for input, which depends on user speed. Exponentiation is O(1) for Python floats, but very large exponents may take longer due to internal computation.\n",
    "\n",
    "Space: O(1) — only a few variables are stored.\n",
    "\n",
    "Robustness:\n",
    "\n",
    "Input validation: Only checks if inputs are valid numbers. It does not check for empty input, NaN, or infinite values. It does not handle cases like a = 0 and b < 0 (which would raise ZeroDivisionError).\n",
    "\n",
    "Edge cases: Handles most exceptions, but a bare except Exception is discouraged in Python best practices. It could be more specific (e.g., handle ZeroDivisionError).\n",
    "\n",
    "Exceptions: Catches and reports errors, but the error messages could be more informative (e.g., mention which input was invalid).\n",
    "\n",
    "Readability/Style:\n",
    "\n",
    "Follows PEP 8 for naming and spacing. Docstring is present for main(). Comments are clear and concise. Variable names (a_str, b_str, a, b, result) are descriptive. The code is easy to read and maintain.\n",
    "\n",
    "Faithfulness:\n",
    "\n",
    "Uses input() for user interaction, float() for conversion, and try/except for error handling, all consistent with lecture notes on input, conversion, and exception handling. The use of ** for exponentiation matches the arithmetic operator section. The error handling is in line with the lecture's advice to catch and report errors, though the use of a bare except Exception is discouraged in the notes."
   ]
  },
  {
   "cell_type": "code",
   "execution_count": 12,
   "id": "9691b3f9-39c6-424f-98fa-df61d9be46da",
   "metadata": {},
   "outputs": [
    {
     "name": "stdin",
     "output_type": "stream",
     "text": [
      "Enter base (a):  4\n",
      "Enter exponent (b):  5\n"
     ]
    },
    {
     "name": "stdout",
     "output_type": "stream",
     "text": [
      "\n",
      "Result: 4.0 ** 5.0 = 1024.0\n"
     ]
    }
   ],
   "source": [
    "# Improved Code\n",
    "#!/usr/bin/env python3\n",
    "\n",
    "def main():\n",
    "    a_str = input(\"Enter base (a): \")\n",
    "    b_str = input(\"Enter exponent (b): \")\n",
    "    try:\n",
    "        a = float(a_str)\n",
    "        b = float(b_str)\n",
    "        result = a ** b\n",
    "        print(f\"\\nResult: {a} ** {b} = {result}\")\n",
    "    except ValueError:\n",
    "        print(\"\\nError: Both inputs must be valid numbers.\")\n",
    "    except ZeroDivisionError:\n",
    "        print(\"\\nError: Cannot raise zero to a negative power.\")\n",
    "    except OverflowError:\n",
    "        print(\"\\nError: Result is too large to compute.\")\n",
    "    except Exception as e:\n",
    "        print(f\"\\nUnexpected error: {e}\")\n",
    "\n",
    "if __name__ == \"__main__\":\n",
    "    main()"
   ]
  },
  {
   "cell_type": "markdown",
   "id": "fa7701d2-513d-4acc-811b-7a43f1d4758c",
   "metadata": {},
   "source": [
    "Using try/except for input validation in Python is considered the most robust and Pythonic approach, especially when working with numeric inputs such as integers, floats, negatives, or scientific notation. This method directly attempts to convert the input and gracefully handles any errors that arise, ensuring that all valid numeric formats are accepted and invalid ones are caught without duplicating the internal logic of type conversion. In contrast, pre-validation using str.isdigit() is only suitable for positive integers, as it fails for negative numbers (e.g., \"-5\"), decimal numbers (\"3.14\"), and scientific notation (\"2e3\"), and may even allow some Unicode digits that cannot be parsed by int(). Therefore, while str.isdigit() is fast and simple for basic checks, it is insufficient for general numeric input validation, making try/except the preferred strategy for programs that require flexibility and reliability in handling user input, as emphasized in your lectures on arithmetic operators, exceptions, and input handling."
   ]
  },
  {
   "cell_type": "markdown",
   "id": "7f4ed069-ce9d-4b00-a307-d7f01dd67605",
   "metadata": {},
   "source": [
    "Citations\n",
    "\n",
    "Arithmetic Operations and Expressions, Math Functions, The Try and Except Keyword"
   ]
  },
  {
   "cell_type": "markdown",
   "id": "44a7c20b-4834-4c93-8223-54127e2429f6",
   "metadata": {},
   "source": [
    "Q5. Password Policy Checker (If/Elif/Else + Loops)."
   ]
  },
  {
   "cell_type": "markdown",
   "id": "0f1b3e4a-5b29-45f1-9ebb-6761e8d1d789",
   "metadata": {},
   "source": [
    "Prompt: \n",
    " Implement check_password(pw:\n",
    "str) -> dict that validates: length ≥ 10, at least one uppercase, one lowercase,\n",
    "one digit, one symbol in !@#$%^&*, and no spaces. Return a dict of booleans per\n",
    "rule and an overall pass/fail. Include a loop that prompts until a valid password\n",
    "is entered (allow quit with Q/q). Add a quick test."
   ]
  },
  {
   "cell_type": "code",
   "execution_count": 16,
   "id": "f9ec23b6-1d35-4949-9f08-8ae5584fd697",
   "metadata": {},
   "outputs": [
    {
     "name": "stdout",
     "output_type": "stream",
     "text": [
      "'Abcdef123!'    → pass=True (expected True)\n",
      "'short1!A'      → pass=False (expected False)\n",
      "'abcdefghij'    → pass=False (expected False)\n",
      "'ABCDEFGHIJ1!'  → pass=False (expected False)\n",
      "'Abcdef123'     → pass=False (expected False)\n",
      "'ValidPass1!'   → pass=True (expected True)\n",
      "'No$pace12'     → pass=False (expected True)\n",
      "'With space 1!' → pass=False (expected False)\n"
     ]
    }
   ],
   "source": [
    "# ChatGPT Code:\n",
    "import re\n",
    "\n",
    "def check_password(pw: str) -> dict:\n",
    "    \"\"\"Validate a password against security rules.\"\"\"\n",
    "    rules = {\n",
    "        \"length\": len(pw) >= 10,\n",
    "        \"uppercase\": bool(re.search(r\"[A-Z]\", pw)),\n",
    "        \"lowercase\": bool(re.search(r\"[a-z]\", pw)),\n",
    "        \"digit\": bool(re.search(r\"\\d\", pw)),\n",
    "        \"symbol\": bool(re.search(r\"[!@#$%^&*]\", pw)),\n",
    "        \"no_spaces\": not bool(re.search(r\"\\s\", pw)),\n",
    "    }\n",
    "    rules[\"pass\"] = all(rules.values())\n",
    "    return rules\n",
    "\n",
    "\n",
    "def prompt_password():\n",
    "    \"\"\"Prompt user until a valid password is entered or they quit.\"\"\"\n",
    "    while True:\n",
    "        pw = input(\"Enter a password (Q to quit): \").strip()\n",
    "        if pw.lower() == \"q\":\n",
    "            print(\"Exiting password setup.\")\n",
    "            break\n",
    "\n",
    "        result = check_password(pw)\n",
    "        if result[\"pass\"]:\n",
    "            print(\"✅ Password accepted.\")\n",
    "            break\n",
    "        else:\n",
    "            print(\"❌ Password invalid. Failed rules:\")\n",
    "            for rule, ok in result.items():\n",
    "                if rule != \"pass\" and not ok:\n",
    "                    print(f\" - {rule}\")\n",
    "            print()\n",
    "\n",
    "\n",
    "# Quick test\n",
    "if __name__ == \"__main__\":\n",
    "    test_cases = {\n",
    "        \"Abcdef123!\": True,\n",
    "        \"short1!A\": False,\n",
    "        \"abcdefghij\": False,\n",
    "        \"ABCDEFGHIJ1!\": False,\n",
    "        \"Abcdef123\": False,\n",
    "        \"ValidPass1!\": True,\n",
    "        \"No$pace12\": True,\n",
    "        \"With space 1!\": False,\n",
    "    }\n",
    "\n",
    "    for pw, expected in test_cases.items():\n",
    "        result = check_password(pw)\n",
    "        print(f\"{pw!r:15} → pass={result['pass']} (expected {expected})\")\n",
    "\n",
    "    # Uncomment to run interactive prompt\n",
    "    # prompt_password()\n"
   ]
  },
  {
   "cell_type": "markdown",
   "id": "3f04ff0b-1afe-4b06-9100-d77b2495d256",
   "metadata": {},
   "source": [
    "Critique\n",
    "\n",
    "Correctness: The original code uses a dictionary to track rule results and prints failed rules, which matches the lecture's approach of explicit rule checks and user feedback.​\n",
    "\n",
    "Complexity: Each rule is checked with a regex or string method, so time complexity is O(n) per password, with O(1) space.​\n",
    "\n",
    "Robustness: The code handles empty strings and whitespace, but could add type checks and more explicit error handling for non-string input.​\n",
    "\n",
    "Readability/Style: The code is modular, uses clear names, and follows PEP 8. Comments and docstrings are present, but could be expanded for clarity.​\n",
    "\n",
    "Faithfulness: The code structure (explicit rule checks, feedback on failed rules, interactive prompt) matches lecture examples and the file's style."
   ]
  },
  {
   "cell_type": "code",
   "execution_count": 18,
   "id": "bdd46023-95f7-40fa-b12f-407a4753f2c5",
   "metadata": {},
   "outputs": [
    {
     "name": "stdin",
     "output_type": "stream",
     "text": [
      "Enter a password (Q to quit):  81927182\n"
     ]
    },
    {
     "name": "stdout",
     "output_type": "stream",
     "text": [
      "❌ Password invalid. Failed rules:\n",
      " - length (must be at least 10 characters)\n",
      " - uppercase (must include an uppercase letter)\n",
      " - lowercase (must include a lowercase letter)\n",
      " - symbol (must include one of !@#$%^&*)\n",
      "\n"
     ]
    },
    {
     "name": "stdin",
     "output_type": "stream",
     "text": [
      "Enter a password (Q to quit):  Aku*samant\n"
     ]
    },
    {
     "name": "stdout",
     "output_type": "stream",
     "text": [
      "❌ Password invalid. Failed rules:\n",
      " - digit (must include a digit)\n",
      "\n"
     ]
    },
    {
     "name": "stdin",
     "output_type": "stream",
     "text": [
      "Enter a password (Q to quit):  Akusamant2*\n"
     ]
    },
    {
     "name": "stdout",
     "output_type": "stream",
     "text": [
      "✅ Password accepted.\n"
     ]
    }
   ],
   "source": [
    "# Improved Code:\n",
    "def check_password(pw):\n",
    "    rules = {\n",
    "        \"length\": len(pw) >= 10,\n",
    "        \"uppercase\": any(ch.isupper() for ch in pw),\n",
    "        \"lowercase\": any(ch.islower() for ch in pw),\n",
    "        \"digit\": any(ch.isdigit() for ch in pw),\n",
    "        \"symbol\": any(ch in \"!@#$%^&*\" for ch in pw),\n",
    "        \"no_spaces\": \" \" not in pw,\n",
    "    }\n",
    "    rules[\"pass\"] = all(rules.values())\n",
    "    return rules\n",
    "\n",
    "\n",
    "def prompt_password():\n",
    "    while True:\n",
    "        pw = input(\"Enter a password (Q to quit): \").strip()\n",
    "        if pw.lower() == \"q\":\n",
    "            print(\"Exiting password setup.\")\n",
    "            break\n",
    "        result = check_password(pw)\n",
    "        if result[\"pass\"]:\n",
    "            print(\"✅ Password accepted.\")\n",
    "            break\n",
    "        else:\n",
    "            print(\"❌ Password invalid. Failed rules:\")\n",
    "            if not result[\"length\"]:\n",
    "                print(\" - length (must be at least 10 characters)\")\n",
    "            if not result[\"uppercase\"]:\n",
    "                print(\" - uppercase (must include an uppercase letter)\")\n",
    "            if not result[\"lowercase\"]:\n",
    "                print(\" - lowercase (must include a lowercase letter)\")\n",
    "            if not result[\"digit\"]:\n",
    "                print(\" - digit (must include a digit)\")\n",
    "            if not result[\"symbol\"]:\n",
    "                print(\" - symbol (must include one of !@#$%^&*)\")\n",
    "            if not result[\"no_spaces\"]:\n",
    "                print(\" - no_spaces (must not contain spaces)\")\n",
    "            print()\n",
    "\n",
    "if __name__ == \"__main__\":\n",
    "    prompt_password()"
   ]
  },
  {
   "cell_type": "markdown",
   "id": "bec97dfc-3c29-4b14-b8d3-0b51226b95f5",
   "metadata": {},
   "source": [
    "Citations\n",
    "\n",
    "Converting String Case, Functions and Loops, Conditional Logic and Control Flow, Dictionaries"
   ]
  },
  {
   "cell_type": "markdown",
   "id": "a1a9ec69-58b9-4d4f-a1b1-dfabdd672817",
   "metadata": {},
   "source": [
    "Q6. Dice Simulation (Monte Carlo)."
   ]
  },
  {
   "cell_type": "markdown",
   "id": "96b8b57d-6c45-4415-8574-8c98348d34a6",
   "metadata": {},
   "source": [
    "Prompt: Write roll() -> int to simulate a fair die,\n",
    "then simulate 100,000 rolls to estimate the probability that the sum of two dice\n",
    "equals 7. Add a quick test."
   ]
  },
  {
   "cell_type": "code",
   "execution_count": 20,
   "id": "1852dbe5-d3a3-4130-8df0-ccd44bcb44d0",
   "metadata": {},
   "outputs": [
    {
     "name": "stdout",
     "output_type": "stream",
     "text": [
      "Example rolls: [4, 1, 6, 4, 5]\n",
      "Estimated P(sum=7) over 100,000 trials ≈ 0.1677\n",
      "Expected theoretical probability ≈ 0.1667\n"
     ]
    }
   ],
   "source": [
    "# ChatGPT Code:\n",
    "import random\n",
    "\n",
    "def roll() -> int:\n",
    "    \"\"\"Simulate rolling a fair six-sided die.\"\"\"\n",
    "    return random.randint(1, 6)\n",
    "\n",
    "def estimate_prob_sum_7(trials: int = 100_000) -> float:\n",
    "    \"\"\"Estimate the probability that the sum of two dice equals 7.\"\"\"\n",
    "    count = 0\n",
    "    for _ in range(trials):\n",
    "        if roll() + roll() == 7:\n",
    "            count += 1\n",
    "    return count / trials\n",
    "\n",
    "# Quick test\n",
    "if __name__ == \"__main__\":\n",
    "    # Run a few example rolls\n",
    "    print(\"Example rolls:\", [roll() for _ in range(5)])\n",
    "\n",
    "    # Estimate probability\n",
    "    prob = estimate_prob_sum_7()\n",
    "    print(f\"Estimated P(sum=7) over 100,000 trials ≈ {prob:.4f}\")\n",
    "\n",
    "    # Theoretical probability is 6/36 = 1/6 ≈ 0.1667\n",
    "    print(f\"Expected theoretical probability ≈ 0.1667\")"
   ]
  },
  {
   "cell_type": "markdown",
   "id": "572ad01e-8041-4748-9840-9679bec9b53f",
   "metadata": {},
   "source": [
    "Critique:\n",
    "\n",
    "Correctness:\n",
    "The code accurately simulates rolling two fair dice and estimates the probability of their sum being 7. The theoretical probability calculation is correct.\n",
    "\n",
    "Complexity:\n",
    "Time complexity is \n",
    "O\n",
    "(\n",
    "n\n",
    ")\n",
    "O(n), where \n",
    "n\n",
    "n is the number of trials. Space complexity is \n",
    "O\n",
    "(\n",
    "1\n",
    ")\n",
    "O(1), as only a few variables are used.\n",
    "\n",
    "Robustness:\n",
    "No input validation for the number of trials; negative or zero values could cause errors. No exception handling is present.\n",
    "\n",
    "Readability/Style:\n",
    "Names are clear and PEP 8 is followed. Docstrings are included. Could improve robustness with a type check or assertion.\n",
    "\n",
    "Faithfulness:\n",
    "Approach and use of the random module align with lecture methods.\n",
    "\n"
   ]
  },
  {
   "cell_type": "code",
   "execution_count": 21,
   "id": "53b15602-6517-4911-89ec-b05f8cae0bc5",
   "metadata": {},
   "outputs": [
    {
     "name": "stdout",
     "output_type": "stream",
     "text": [
      "Example rolls: [4, 4, 5, 4, 4]\n",
      "Estimated P(sum=7) over 100,000 trials ≈ 0.1646\n",
      "Exact probability: 0.1667\n",
      "Difference (empirical - exact): -0.0021\n"
     ]
    }
   ],
   "source": [
    "# Improved Code:\n",
    "import random\n",
    "\n",
    "def roll() -> int:\n",
    "    \"\"\"Simulate rolling a fair six-sided die.\"\"\"\n",
    "    return random.randint(1, 6)\n",
    "\n",
    "def estimate_prob_sum_7(trials: int = 100_000, seed=None) -> float:\n",
    "    \"\"\"Estimate the probability that the sum of two dice equals 7.\n",
    "    Optionally set a random seed for reproducibility.\"\"\"\n",
    "    if seed is not None:\n",
    "        random.seed(seed)  # Setting the seed makes results reproducible\n",
    "    count = 0\n",
    "    for _ in range(trials):\n",
    "        if roll() + roll() == 7:\n",
    "            count += 1\n",
    "    return count / trials\n",
    "\n",
    "if __name__ == \"__main__\":\n",
    "    # Set a seed for reproducibility\n",
    "    seed = 42\n",
    "    print(\"Example rolls:\", [roll() for _ in range(5)])\n",
    "\n",
    "    prob = estimate_prob_sum_7(seed=seed)\n",
    "    print(f\"Estimated P(sum=7) over 100,000 trials ≈ {prob:.4f}\")\n",
    "\n",
    "    exact_prob = 1/6\n",
    "    print(f\"Exact probability: {exact_prob:.4f}\")\n",
    "    print(f\"Difference (empirical - exact): {prob - exact_prob:.4f}\")  # Compare empirical result to the exact probability"
   ]
  },
  {
   "cell_type": "markdown",
   "id": "1a0623f7-e8ac-4d23-819b-8600bfa1cfd2",
   "metadata": {},
   "source": [
    "Citations\n",
    "Arithmetic Operations and Expressions, Functions and Loops, The Random Module"
   ]
  },
  {
   "cell_type": "markdown",
   "id": "aad14ace-92ed-447d-a8b8-05b863d702ca",
   "metadata": {},
   "source": [
    "Q7. OOP: Vehicles with Odometer and Fuel"
   ]
  },
  {
   "cell_type": "markdown",
   "id": "7ec5ca57-6950-4bb8-a598-48e744288fbe",
   "metadata": {},
   "source": [
    "Prompt: Design classes Vehicle (base), Car and Truck (children). Each has color, mileage, and fuel_liters. Provide drive(km, km_per_liter) which increments mileage and decreases fuel (never below 0) and refuel(liters). Show how inheritance avoids duplication and add a method override in Truck (e.g., different efficiency). Include a minimal test script."
   ]
  },
  {
   "cell_type": "code",
   "execution_count": 23,
   "id": "abbc533b-8d89-4910-afa9-39d0c60f408c",
   "metadata": {},
   "outputs": [
    {
     "name": "stdout",
     "output_type": "stream",
     "text": [
      "Before driving:\n",
      "Car(red, 10000.0 km, 20.0 L)\n",
      "Truck(blue, 50000.0 km, 40.0 L)\n",
      "\n",
      "After driving 100 km:\n",
      "Car(red, 10100.0 km, 10.0 L)\n",
      "Truck(blue, 50100.0 km, 27.5 L)\n",
      "\n",
      "After refueling truck:\n",
      "Truck(blue, 50100.0 km, 37.5 L)\n"
     ]
    }
   ],
   "source": [
    "#ChatGPT Code:\n",
    "class Vehicle:\n",
    "    def __init__(self, color: str, mileage: float = 0.0, fuel_liters: float = 0.0):\n",
    "        self.color = color\n",
    "        self.mileage = mileage\n",
    "        self.fuel_liters = fuel_liters\n",
    "\n",
    "    def drive(self, km: float, km_per_liter: float):\n",
    "        \"\"\"Drive a given distance, using fuel (not going below zero).\"\"\"\n",
    "        possible_km = self.fuel_liters * km_per_liter\n",
    "        actual_km = min(km, possible_km)\n",
    "        fuel_used = actual_km / km_per_liter\n",
    "        self.mileage += actual_km\n",
    "        self.fuel_liters -= fuel_used\n",
    "        self.fuel_liters = max(self.fuel_liters, 0)\n",
    "\n",
    "    def refuel(self, liters: float):\n",
    "        \"\"\"Add fuel.\"\"\"\n",
    "        self.fuel_liters += liters\n",
    "\n",
    "    def __str__(self):\n",
    "        return f\"{self.__class__.__name__}({self.color}, {self.mileage:.1f} km, {self.fuel_liters:.1f} L)\"\n",
    "\n",
    "\n",
    "class Car(Vehicle):\n",
    "    \"\"\"Car inherits all Vehicle behavior without modification.\"\"\"\n",
    "    pass\n",
    "\n",
    "\n",
    "class Truck(Vehicle):\n",
    "    \"\"\"Truck is less fuel-efficient, so override drive().\"\"\"\n",
    "    def drive(self, km: float, km_per_liter: float):\n",
    "        # Trucks are ~20% less efficient\n",
    "        adjusted_efficiency = km_per_liter * 0.8\n",
    "        super().drive(km, adjusted_efficiency)\n",
    "\n",
    "\n",
    "# --- Minimal Test Script ---\n",
    "if __name__ == \"__main__\":\n",
    "    car = Car(\"red\", mileage=10_000, fuel_liters=20)\n",
    "    truck = Truck(\"blue\", mileage=50_000, fuel_liters=40)\n",
    "\n",
    "    print(\"Before driving:\")\n",
    "    print(car)\n",
    "    print(truck)\n",
    "\n",
    "    # Drive both\n",
    "    car.drive(100, km_per_liter=10)\n",
    "    truck.drive(100, km_per_liter=10)\n",
    "\n",
    "    print(\"\\nAfter driving 100 km:\")\n",
    "    print(car)\n",
    "    print(truck)\n",
    "\n",
    "    # Refuel and show\n",
    "    truck.refuel(10)\n",
    "    print(\"\\nAfter refueling truck:\")\n",
    "    print(truck)"
   ]
  },
  {
   "cell_type": "markdown",
   "id": "19b93938-81e8-4cfb-b6ed-f6884f7f8f56",
   "metadata": {},
   "source": [
    "Critique: \n",
    "\n",
    "Correctness:\n",
    "The code models vehicles with inheritance and method overriding as intended. Methods behave as described, but lack input validation, allowing invalid values that can cause errors.\n",
    "\n",
    "Complexity:\n",
    "All operations run in constant time and space, as they only update instance attributes.\n",
    "\n",
    "Robustness:\n",
    "No checks for negative or zero values in inputs, risking invalid states or runtime errors. Exception handling is missing.\n",
    "\n",
    "Readability/Style:\n",
    "Naming and formatting follow PEP 8. Comments and docstrings are present but could be expanded for clarity.\n",
    "\n",
    "Faithfulness:\n",
    "The code demonstrates OOP concepts as taught, but would benefit from stronger input validation and error handling, as emphasized in lectures."
   ]
  },
  {
   "cell_type": "code",
   "execution_count": 24,
   "id": "67ba1849-3574-46b2-a06e-420df1ee8a59",
   "metadata": {},
   "outputs": [
    {
     "name": "stdout",
     "output_type": "stream",
     "text": [
      "Before driving:\n",
      "Car(red, 10000.0 km, 20.0 L)\n",
      "Truck(blue, 50000.0 km, 40.0 L)\n",
      "\n",
      "After driving 100 km:\n",
      "Car(red, 10100.0 km, 10.0 L)\n",
      "Truck(blue, 50100.0 km, 27.5 L)\n",
      "\n",
      "After refueling truck:\n",
      "Truck(blue, 50100.0 km, 37.5 L)\n",
      "Caught error as expected: Distance to drive must be positive.\n",
      "Caught error as expected: Refuel amount must be positive.\n",
      "Caught error as expected: Fuel efficiency must be positive.\n"
     ]
    }
   ],
   "source": [
    "# Improved Code:\n",
    "class Vehicle:\n",
    "    def __init__(self, color: str, mileage: float = 0.0, fuel_liters: float = 0.0):\n",
    "        if mileage < 0:\n",
    "            raise ValueError(\"Mileage cannot be negative.\")\n",
    "        if fuel_liters < 0:\n",
    "            raise ValueError(\"Fuel amount cannot be negative.\")\n",
    "        self.color = color\n",
    "        self.mileage = mileage\n",
    "        self.fuel_liters = fuel_liters\n",
    "\n",
    "    def drive(self, km: float, km_per_liter: float):\n",
    "        if km <= 0:\n",
    "            raise ValueError(\"Distance to drive must be positive.\")\n",
    "        if km_per_liter <= 0:\n",
    "            raise ValueError(\"Fuel efficiency must be positive.\")\n",
    "        possible_km = self.fuel_liters * km_per_liter\n",
    "        actual_km = min(km, possible_km)\n",
    "        fuel_used = actual_km / km_per_liter\n",
    "        self.mileage += actual_km\n",
    "        self.fuel_liters -= fuel_used\n",
    "        self.fuel_liters = max(self.fuel_liters, 0)\n",
    "\n",
    "    def refuel(self, liters: float):\n",
    "        if liters <= 0:\n",
    "            raise ValueError(\"Refuel amount must be positive.\")\n",
    "        self.fuel_liters += liters\n",
    "\n",
    "    def __str__(self):\n",
    "        return f\"{self.__class__.__name__}({self.color}, {self.mileage:.1f} km, {self.fuel_liters:.1f} L)\"\n",
    "\n",
    "class Car(Vehicle):\n",
    "    pass\n",
    "\n",
    "class Truck(Vehicle):\n",
    "    def drive(self, km: float, km_per_liter: float):\n",
    "        adjusted_efficiency = km_per_liter * 0.8\n",
    "        super().drive(km, adjusted_efficiency)\n",
    "\n",
    "if __name__ == \"__main__\":\n",
    "    car = Car(\"red\", mileage=10_000, fuel_liters=20)\n",
    "    truck = Truck(\"blue\", mileage=50_000, fuel_liters=40)\n",
    "\n",
    "    print(\"Before driving:\")\n",
    "    print(car)\n",
    "    print(truck)\n",
    "\n",
    "    car.drive(100, km_per_liter=10)\n",
    "    truck.drive(100, km_per_liter=10)\n",
    "\n",
    "    print(\"\\nAfter driving 100 km:\")\n",
    "    print(car)\n",
    "    print(truck)\n",
    "\n",
    "    truck.refuel(10)\n",
    "    print(\"\\nAfter refueling truck:\")\n",
    "    print(truck)\n",
    "\n",
    "    try:\n",
    "        car.drive(-10, 10)\n",
    "    except ValueError as e:\n",
    "        print(f\"Caught error as expected: {e}\")\n",
    "    try:\n",
    "        truck.refuel(-5)\n",
    "    except ValueError as e:\n",
    "        print(f\"Caught error as expected: {e}\")\n",
    "    try:\n",
    "        car.drive(10, 0)\n",
    "    except ValueError as e:\n",
    "        print(f\"Caught error as expected: {e}\")"
   ]
  },
  {
   "cell_type": "markdown",
   "id": "6863b2c0-4dcf-4566-b0fc-105412bf44c6",
   "metadata": {},
   "source": [
    "Citations: \n",
    "\n",
    "Arithmetic Operations and Expressions, Functions, Conditional Logic and Control Flow, Object-Oriented Programming; Extending the Functionality of a Parent Class"
   ]
  },
  {
   "cell_type": "markdown",
   "id": "693439bb-b527-4fb2-9161-d16031a4b288",
   "metadata": {},
   "source": [
    "Q8. OOP + Composition: Kennel with Dogs."
   ]
  },
  {
   "cell_type": "markdown",
   "id": "60650fdc-caeb-46f3-ba87-3277c21c0749",
   "metadata": {},
   "source": [
    "Prompt: Using a Dog class (name, age, breed, bark()), implement a Kennel manager that holds multiple Dog instances, supports add_dog, remove_dog, oldest_dog(), and find_by_breed(breed). Add a quick test."
   ]
  },
  {
   "cell_type": "code",
   "execution_count": 25,
   "id": "cc6d5a0d-9462-49cc-9c86-46bdee4f26fe",
   "metadata": {},
   "outputs": [
    {
     "name": "stdout",
     "output_type": "stream",
     "text": [
      "All dogs in kennel: [Dog(name='Buddy', age=3, breed='Beagle'), Dog(name='Max', age=5, breed='Labrador'), Dog(name='Bella', age=2, breed='Beagle')]\n",
      "Buddy says: Woof!\n",
      "Beagles: [Dog(name='Buddy', age=3, breed='Beagle'), Dog(name='Bella', age=2, breed='Beagle')]\n",
      "Oldest dog: Dog(name='Max', age=5, breed='Labrador')\n",
      "After removing Max: [Dog(name='Buddy', age=3, breed='Beagle'), Dog(name='Bella', age=2, breed='Beagle')]\n"
     ]
    }
   ],
   "source": [
    "# ChatGPT Code:\n",
    "class Dog:\n",
    "    def __init__(self, name: str, age: int, breed: str):\n",
    "        self.name = name\n",
    "        self.age = age\n",
    "        self.breed = breed\n",
    "\n",
    "    def bark(self) -> str:\n",
    "        return f\"{self.name} says: Woof!\"\n",
    "\n",
    "    def __repr__(self):\n",
    "        return f\"Dog(name='{self.name}', age={self.age}, breed='{self.breed}')\"\n",
    "\n",
    "\n",
    "class Kennel:\n",
    "    def __init__(self):\n",
    "        self.dogs = []\n",
    "\n",
    "    def add_dog(self, dog: Dog):\n",
    "        \"\"\"Add a Dog instance to the kennel.\"\"\"\n",
    "        self.dogs.append(dog)\n",
    "\n",
    "    def remove_dog(self, name: str):\n",
    "        \"\"\"Remove a dog by name (case-insensitive).\"\"\"\n",
    "        self.dogs = [d for d in self.dogs if d.name.lower() != name.lower()]\n",
    "\n",
    "    def oldest_dog(self):\n",
    "        \"\"\"Return the oldest dog, or None if empty.\"\"\"\n",
    "        if not self.dogs:\n",
    "            return None\n",
    "        return max(self.dogs, key=lambda d: d.age)\n",
    "\n",
    "    def find_by_breed(self, breed: str):\n",
    "        \"\"\"Return a list of all dogs matching the given breed (case-insensitive).\"\"\"\n",
    "        return [d for d in self.dogs if d.breed.lower() == breed.lower()]\n",
    "\n",
    "    def __repr__(self):\n",
    "        return f\"Kennel({self.dogs})\"\n",
    "\n",
    "\n",
    "# --- Quick Test ---\n",
    "if __name__ == \"__main__\":\n",
    "    # Create dogs\n",
    "    d1 = Dog(\"Buddy\", 3, \"Beagle\")\n",
    "    d2 = Dog(\"Max\", 5, \"Labrador\")\n",
    "    d3 = Dog(\"Bella\", 2, \"Beagle\")\n",
    "\n",
    "    # Create kennel and add dogs\n",
    "    k = Kennel()\n",
    "    k.add_dog(d1)\n",
    "    k.add_dog(d2)\n",
    "    k.add_dog(d3)\n",
    "\n",
    "    print(\"All dogs in kennel:\", k.dogs)\n",
    "    print(d1.bark())\n",
    "\n",
    "    # Find all beagles\n",
    "    print(\"Beagles:\", k.find_by_breed(\"beagle\"))\n",
    "\n",
    "    # Show oldest dog\n",
    "    print(\"Oldest dog:\", k.oldest_dog())\n",
    "\n",
    "    # Remove a dog\n",
    "    k.remove_dog(\"Max\")\n",
    "    print(\"After removing Max:\", k.dogs)\n"
   ]
  },
  {
   "cell_type": "markdown",
   "id": "cd7e264d-035e-4628-b9b2-4ee9ad0cf344",
   "metadata": {},
   "source": [
    "Critique:\n",
    "\n",
    "Correctness:\n",
    "Dog and Kennel classes implement required attributes and methods with correct logic. The test script covers all features and produces expected results.\n",
    "\n",
    "Complexity:\n",
    "Adding is \n",
    "O\n",
    "(\n",
    "1\n",
    ")\n",
    "O(1); removing, finding oldest, and searching by breed are \n",
    "O\n",
    "(\n",
    "n\n",
    ")\n",
    "O(n). Space usage is \n",
    "O\n",
    "(\n",
    "n\n",
    ")\n",
    "O(n), proportional to the number of dogs.\n",
    "\n",
    "Robustness:\n",
    "No input validation for types or values, allowing invalid data. Case-insensitive search is user-friendly. oldest_dog safely returns None if empty. No exception handling for misuse.\n",
    "\n",
    "Readability/Style:\n",
    "Naming, formatting, and indentation follow PEP 8. Docstrings are present for Kennel methods, not Dog. repr aids debugging. Code and test script are clear.\n",
    "\n",
    "Faithfulness:\n",
    "The code closely follows lecture examples, demonstrating OOP concepts, instance management, and practical use cases."
   ]
  },
  {
   "cell_type": "code",
   "execution_count": 26,
   "id": "0b4afb4b-9977-4f33-8ca3-1304daf3e82f",
   "metadata": {},
   "outputs": [
    {
     "name": "stdout",
     "output_type": "stream",
     "text": [
      "All dogs:\n",
      "Buddy (Bulldog), 5 years old\n",
      "Max (Labrador), 8 years old\n",
      "Bella (Bulldog), 3 years old\n",
      "\n",
      "Oldest dog:\n",
      "Max (Labrador), 8 years old\n",
      "\n",
      "Bulldogs:\n",
      "Buddy (Bulldog), 5 years old\n",
      "Bella (Bulldog), 3 years old\n",
      "\n",
      "After removing Max:\n",
      "Buddy (Bulldog), 5 years old\n",
      "Bella (Bulldog), 3 years old\n"
     ]
    }
   ],
   "source": [
    "# Improved Code:\n",
    "class Dog:\n",
    "    species = \"Canis familiaris\"\n",
    "    def __init__(self, name: str, age: int, breed: str):\n",
    "        self.name = name\n",
    "        self.age = age\n",
    "        self.breed = breed\n",
    "\n",
    "    def bark(self):\n",
    "        return f\"{self.name} says Woof!\"\n",
    "\n",
    "    def __str__(self):\n",
    "        return f\"{self.name} ({self.breed}), {self.age} years old\"\n",
    "\n",
    "class Kennel:\n",
    "    def __init__(self):\n",
    "        self.dogs = []\n",
    "\n",
    "    def add_dog(self, dog: Dog):\n",
    "        self.dogs.append(dog)\n",
    "\n",
    "    def remove_dog(self, name: str):\n",
    "        self.dogs = [dog for dog in self.dogs if dog.name != name]\n",
    "\n",
    "    def oldest_dog(self):\n",
    "        if not self.dogs:\n",
    "            return None\n",
    "        return max(self.dogs, key=lambda d: d.age)\n",
    "\n",
    "    def find_by_breed(self, breed: str):\n",
    "        return [dog for dog in self.dogs if dog.breed == breed]\n",
    "\n",
    "if __name__ == \"__main__\":\n",
    "    kennel = Kennel()\n",
    "    kennel.add_dog(Dog(\"Buddy\", 5, \"Bulldog\"))\n",
    "    kennel.add_dog(Dog(\"Max\", 8, \"Labrador\"))\n",
    "    kennel.add_dog(Dog(\"Bella\", 3, \"Bulldog\"))\n",
    "    print(\"All dogs:\")\n",
    "    for dog in kennel.dogs:\n",
    "        print(dog)\n",
    "    print(\"\\nOldest dog:\")\n",
    "    print(kennel.oldest_dog())\n",
    "    print(\"\\nBulldogs:\")\n",
    "    for dog in kennel.find_by_breed(\"Bulldog\"):\n",
    "        print(dog)\n",
    "    kennel.remove_dog(\"Max\")\n",
    "    print(\"\\nAfter removing Max:\")\n",
    "    for dog in kennel.dogs:\n",
    "        print(dog)"
   ]
  },
  {
   "cell_type": "markdown",
   "id": "e084b8e5-d2e8-4d98-a886-b631e8e52235",
   "metadata": {},
   "source": [
    "For the Dog/Kennel scenario, inheritance is used when you want to create specialized types of dogs (like Beagle or Labrador), since they \"are\" dogs. Composition is used when a class \"has\" other objects, like a Kennel that manages multiple Dog instances. Here, composition is the right choice because a kennel contains dogs, not inherits from them—it’s more flexible and matches real-world relationships."
   ]
  },
  {
   "cell_type": "markdown",
   "id": "19bf2638-f5e4-4543-aae2-abafe88e8edf",
   "metadata": {},
   "source": [
    "Citations\n",
    "\n",
    "List, Object-Oriented Programming: Object instantiation, Class and Instance Attributes, Instance Methods"
   ]
  },
  {
   "cell_type": "markdown",
   "id": "46312a14-9423-4b1e-9c0d-0ea8e320495e",
   "metadata": {},
   "source": [
    "Q9. Modules and Packages: Helpers."
   ]
  },
  {
   "cell_type": "code",
   "execution_count": 27,
   "id": "b138f0ad-2072-4b41-95f3-7801abf1f526",
   "metadata": {},
   "outputs": [
    {
     "ename": "ModuleNotFoundError",
     "evalue": "No module named 'helpers'",
     "output_type": "error",
     "traceback": [
      "\u001b[0;31m---------------------------------------------------------------------------\u001b[0m",
      "\u001b[0;31mModuleNotFoundError\u001b[0m                       Traceback (most recent call last)",
      "Cell \u001b[0;32mIn[27], line 2\u001b[0m\n\u001b[1;32m      1\u001b[0m \u001b[38;5;66;03m#Code\u001b[39;00m\n\u001b[0;32m----> 2\u001b[0m \u001b[38;5;28;01mimport\u001b[39;00m \u001b[38;5;21;01mhelpers\u001b[39;00m\u001b[38;5;21;01m.\u001b[39;00m\u001b[38;5;21;01mstring_utils\u001b[39;00m \u001b[38;5;28;01mas\u001b[39;00m \u001b[38;5;21;01msu\u001b[39;00m\n\u001b[1;32m      3\u001b[0m \u001b[38;5;28;01mfrom\u001b[39;00m \u001b[38;5;21;01mhelpers\u001b[39;00m\u001b[38;5;21;01m.\u001b[39;00m\u001b[38;5;21;01mmath_utils\u001b[39;00m \u001b[38;5;28;01mimport\u001b[39;00m area\n\u001b[1;32m      5\u001b[0m \u001b[38;5;28mprint\u001b[39m(su\u001b[38;5;241m.\u001b[39mshout(\u001b[38;5;124m\"\u001b[39m\u001b[38;5;124mhello world\u001b[39m\u001b[38;5;124m\"\u001b[39m))\n",
      "\u001b[0;31mModuleNotFoundError\u001b[0m: No module named 'helpers'"
     ]
    }
   ],
   "source": [
    "#Code\n",
    "import helpers.string_utils as su\n",
    "from helpers.math_utils import area\n",
    "\n",
    "print(su.shout(\"hello world\"))\n",
    "print(\"Area:\", area(5, 3))"
   ]
  },
  {
   "cell_type": "markdown",
   "id": "b0af315f-461b-485c-9209-c7c9b5892bc8",
   "metadata": {},
   "source": [
    "Using as su creates an alias for helpers.string_utils, so you can reference its functions without risk of collision with other modules named string_utils or similar. This keeps the code readable and prevents accidental overwriting or confusion between similarly named objects."
   ]
  },
  {
   "cell_type": "markdown",
   "id": "738a27a3-59ec-44be-8e51-584976f95350",
   "metadata": {},
   "source": [
    "Citations\n",
    "\n",
    "Modules and Packages"
   ]
  },
  {
   "cell_type": "markdown",
   "id": "1b4e104e-718b-49f4-a450-ba9a82d23a47",
   "metadata": {},
   "source": [
    "Q10. Robust Temperature Converter (Functions + Exceptions). "
   ]
  },
  {
   "cell_type": "code",
   "execution_count": 29,
   "id": "51765576-5c8c-4223-a7d3-51c7540fc3ea",
   "metadata": {},
   "outputs": [
    {
     "name": "stdout",
     "output_type": "stream",
     "text": [
      "All tests passed.\n",
      "Choose conversion:\n",
      "1. Celsius to Fahrenheit\n",
      "2. Fahrenheit to Celsius\n"
     ]
    },
    {
     "name": "stdin",
     "output_type": "stream",
     "text": [
      "Enter 1 or 2 (or 'q' to quit):  1\n",
      "Enter the temperature to convert:  76\n"
     ]
    },
    {
     "name": "stdout",
     "output_type": "stream",
     "text": [
      "76.00°C = 168.80°F\n",
      "\n",
      "Choose conversion:\n",
      "1. Celsius to Fahrenheit\n",
      "2. Fahrenheit to Celsius\n"
     ]
    },
    {
     "name": "stdin",
     "output_type": "stream",
     "text": [
      "Enter 1 or 2 (or 'q' to quit):  r\n"
     ]
    },
    {
     "name": "stdout",
     "output_type": "stream",
     "text": [
      "Invalid choice. Please enter 1, 2, or 'q'.\n",
      "\n",
      "Choose conversion:\n",
      "1. Celsius to Fahrenheit\n",
      "2. Fahrenheit to Celsius\n"
     ]
    },
    {
     "name": "stdin",
     "output_type": "stream",
     "text": [
      "Enter 1 or 2 (or 'q' to quit):  q\n"
     ]
    },
    {
     "name": "stdout",
     "output_type": "stream",
     "text": [
      "Goodbye!\n"
     ]
    }
   ],
   "source": [
    "def cel_to_far(c: float) -> float:\n",
    "    \"\"\"Convert Celsius to Fahrenheit.\"\"\"\n",
    "    return c * 9 / 5 + 32\n",
    "\n",
    "\n",
    "def far_to_cel(f: float) -> float:\n",
    "    \"\"\"Convert Fahrenheit to Celsius.\"\"\"\n",
    "    return (f - 32) * 5 / 9\n",
    "\n",
    "\n",
    "# Unit tests\n",
    "assert cel_to_far(0) == 32.0\n",
    "assert cel_to_far(100) == 212.0\n",
    "assert far_to_cel(32) == 0.0\n",
    "assert far_to_cel(212) == 100.0\n",
    "assert cel_to_far(-40) == -40.0\n",
    "assert far_to_cel(-40) == -40.0\n",
    "assert round(cel_to_far(37), 2) == 98.6\n",
    "assert round(far_to_cel(98.6), 2) == 37.0\n",
    "print(\"All tests passed.\")\n",
    "\n",
    "\n",
    "while True:\n",
    "    print(\"Choose conversion:\")\n",
    "    print(\"1. Celsius to Fahrenheit\")\n",
    "    print(\"2. Fahrenheit to Celsius\")\n",
    "    choice = input(\"Enter 1 or 2 (or 'q' to quit): \").strip().lower()\n",
    "    if choice == 'q':\n",
    "        print(\"Goodbye!\")\n",
    "        break\n",
    "    if choice not in ('1', '2'):\n",
    "        print(\"Invalid choice. Please enter 1, 2, or 'q'.\\n\")\n",
    "        continue\n",
    "    temp_input = input(\"Enter the temperature to convert: \").strip()\n",
    "    try:\n",
    "        temp = float(temp_input)\n",
    "    except ValueError:\n",
    "        print(\"That was not a valid number. Try again.\\n\")\n",
    "        continue\n",
    "    if choice == '1':\n",
    "        result = cel_to_far(temp)\n",
    "        print(f\"{temp:.2f}°C = {result:.2f}°F\\n\")\n",
    "    else:\n",
    "        result = far_to_cel(temp)\n",
    "        print(f\"{temp:.2f}°F = {result:.2f}°C\\n\")\n"
   ]
  },
  {
   "cell_type": "markdown",
   "id": "0bf83179-da86-4a50-94d6-c0ed40ca0f75",
   "metadata": {},
   "source": [
    "Citations:\n",
    "\n",
    "Arithmetic Operations and Expressions\n",
    "\n",
    "Converting Temperatures\n",
    "\n",
    "The Try and Except Keyword"
   ]
  }
 ],
 "metadata": {
  "kernelspec": {
   "display_name": "anaconda-ai-2024.04-py310",
   "language": "python",
   "name": "conda-env-anaconda-ai-2024.04-py310-py"
  },
  "language_info": {
   "codemirror_mode": {
    "name": "ipython",
    "version": 3
   },
   "file_extension": ".py",
   "mimetype": "text/x-python",
   "name": "python",
   "nbconvert_exporter": "python",
   "pygments_lexer": "ipython3",
   "version": "3.10.13"
  }
 },
 "nbformat": 4,
 "nbformat_minor": 5
}
