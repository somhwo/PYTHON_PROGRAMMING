{
 "cells": [
  {
   "cell_type": "markdown",
   "id": "4fb1806f-7c9b-467e-aee5-d36e1e42fc58",
   "metadata": {},
   "source": [
    "# Review Questions page 21"
   ]
  },
  {
   "cell_type": "code",
   "execution_count": 25,
   "id": "cef5037e-28e9-4a71-a139-4a956b9674fd",
   "metadata": {},
   "outputs": [
    {
     "data": {
      "text/plain": [
       "5"
      ]
     },
     "execution_count": 25,
     "metadata": {},
     "output_type": "execute_result"
    }
   ],
   "source": [
    "#1\n",
    "string = \"hello\"\n",
    "len(string)"
   ]
  },
  {
   "cell_type": "code",
   "execution_count": 24,
   "id": "474e9350-4637-4309-bbd7-5d019d190676",
   "metadata": {},
   "outputs": [
    {
     "data": {
      "text/plain": [
       "'helloworld'"
      ]
     },
     "execution_count": 24,
     "metadata": {},
     "output_type": "execute_result"
    }
   ],
   "source": [
    "#2\n",
    "string1 = \"hello\"\n",
    "string2 = \"world\"\n",
    "strings = string1 + string2\n",
    "strings\n"
   ]
  },
  {
   "cell_type": "code",
   "execution_count": 23,
   "id": "d7e96450-06c3-44dd-b984-39914cdc8784",
   "metadata": {},
   "outputs": [
    {
     "data": {
      "text/plain": [
       "'hello world'"
      ]
     },
     "execution_count": 23,
     "metadata": {},
     "output_type": "execute_result"
    }
   ],
   "source": [
    "#3\n",
    "string1 = \"hello\"\n",
    "string2 = \"world\"\n",
    "strings = string1 + \" \" + string2\n",
    "strings\n"
   ]
  },
  {
   "cell_type": "code",
   "execution_count": 22,
   "id": "77b8b45e-0bfb-430a-a4f4-66f461d24656",
   "metadata": {},
   "outputs": [
    {
     "data": {
      "text/plain": [
       "'fox'"
      ]
     },
     "execution_count": 22,
     "metadata": {},
     "output_type": "execute_result"
    }
   ],
   "source": [
    "#4\n",
    "string = \"The quick brown fox jumped over the lazy dog #1234567890!\"\n",
    "string\n",
    "string[16:19]"
   ]
  },
  {
   "cell_type": "markdown",
   "id": "8ec25458-7adc-4c4e-a408-cc10cb8cfd7e",
   "metadata": {},
   "source": [
    "# Review Questions page 25"
   ]
  },
  {
   "cell_type": "code",
   "execution_count": 53,
   "id": "9e7339e8-7225-47f5-94fb-903476bb598e",
   "metadata": {},
   "outputs": [
    {
     "name": "stdout",
     "output_type": "stream",
     "text": [
      "animals\n",
      "badger\n",
      "honey bee\n",
      "honeybadger\n"
     ]
    }
   ],
   "source": [
    "#1\n",
    "word1 = \"Animals\"\n",
    "word2 = \"Badger\"\n",
    "word3 = \"Honey Bee\"\n",
    "word4 = \"Honeybadger\"\n",
    "print(word1.lower())\n",
    "print(word2.lower())\n",
    "print(word3.lower())\n",
    "print(word4.lower())"
   ]
  },
  {
   "cell_type": "code",
   "execution_count": 54,
   "id": "5b00ccbc-592b-4658-b6b3-58a8484d720a",
   "metadata": {},
   "outputs": [
    {
     "name": "stdout",
     "output_type": "stream",
     "text": [
      "ANIMALS\n",
      "BADGER\n",
      "HONEY BEE\n",
      "HONEYBADGER\n"
     ]
    }
   ],
   "source": [
    "#2\n",
    "word1 = \"Animals\"\n",
    "word2 = \"Badger\"\n",
    "word3 = \"Honey Bee\"\n",
    "word4 = \"Honeybadger\"\n",
    "print(word1.upper())\n",
    "print(word2.upper())\n",
    "print(word3.upper())\n",
    "print(word4.upper())"
   ]
  },
  {
   "cell_type": "code",
   "execution_count": 33,
   "id": "92b857f7-55bf-41ed-90ab-080f47e685c8",
   "metadata": {},
   "outputs": [
    {
     "name": "stdout",
     "output_type": "stream",
     "text": [
      "Filet Mignon\n",
      "Brisket\n"
     ]
    }
   ],
   "source": [
    "#3\n",
    "string1 = '   Filet Mignon'\n",
    "string2 = 'Brisket        '\n",
    "print(string1.lstrip())\n",
    "print(string2.rstrip())"
   ]
  },
  {
   "cell_type": "code",
   "execution_count": 45,
   "id": "d3319b08-64f3-4fdc-a975-73f92f6f759b",
   "metadata": {},
   "outputs": [
    {
     "name": "stdout",
     "output_type": "stream",
     "text": [
      "False\n",
      "True\n"
     ]
    }
   ],
   "source": [
    "#4\n",
    "string1 = \"Becomes\"\n",
    "string2 = \"becomes\"\n",
    "print(string1.startswith('be'))\n",
    "print(string2.startswith('be'))"
   ]
  },
  {
   "cell_type": "code",
   "execution_count": 48,
   "id": "ab91ceca-ea43-45c6-88c8-d2fcf7a75b53",
   "metadata": {},
   "outputs": [
    {
     "name": "stdout",
     "output_type": "stream",
     "text": [
      "True\n",
      "True\n"
     ]
    }
   ],
   "source": [
    "#5\n",
    "string1 = \"Becomes\"\n",
    "string2 = \"becomes\"\n",
    "\n",
    "print(string1.lower().startswith('be'))\n",
    "print(string2.startswith('be'))"
   ]
  },
  {
   "cell_type": "markdown",
   "id": "f4ed0332-f7e5-4f35-ae1f-d7a2bd1ba470",
   "metadata": {},
   "source": [
    "# Review Questions page 27"
   ]
  },
  {
   "cell_type": "code",
   "execution_count": 52,
   "id": "abc8c20f-ff4b-4be4-8557-24dd492813d4",
   "metadata": {},
   "outputs": [
    {
     "name": "stdin",
     "output_type": "stream",
     "text": [
      "What's your name? sam\n"
     ]
    },
    {
     "name": "stdout",
     "output_type": "stream",
     "text": [
      "You said: sam\n"
     ]
    }
   ],
   "source": [
    "#1\n",
    "prompt = \"What's your name?\"\n",
    "user_input = input(prompt)\n",
    "print(\"You said:\", user_input)"
   ]
  },
  {
   "cell_type": "code",
   "execution_count": 55,
   "id": "e5819203-4136-4fee-b111-3e65c1945e3b",
   "metadata": {},
   "outputs": [
    {
     "name": "stdin",
     "output_type": "stream",
     "text": [
      "What's your name? SAM\n"
     ]
    },
    {
     "name": "stdout",
     "output_type": "stream",
     "text": [
      "You said: sam\n"
     ]
    }
   ],
   "source": [
    "#2\n",
    "prompt = \"What's your name?\"\n",
    "user_input = input(prompt)\n",
    "print(\"You said:\", user_input.lower())"
   ]
  },
  {
   "cell_type": "code",
   "execution_count": 61,
   "id": "949472eb-876a-4021-a618-68c5e4ceffdd",
   "metadata": {},
   "outputs": [
    {
     "name": "stdin",
     "output_type": "stream",
     "text": [
      "What's your name? sam,\n"
     ]
    },
    {
     "name": "stdout",
     "output_type": "stream",
     "text": [
      "You said: sam,\n",
      "Number of characters: 4\n"
     ]
    }
   ],
   "source": [
    "#3\n",
    "prompt = \"What's your name?\"\n",
    "user_input = input(prompt)\n",
    "print(\"You said:\", user_input)\n",
    "print(\"Number of characters:\", len(user_input))"
   ]
  },
  {
   "cell_type": "markdown",
   "id": "a6415ebf-91e5-4862-bee1-4c37b0f5185e",
   "metadata": {},
   "source": [
    "# Review Questions page 28"
   ]
  },
  {
   "cell_type": "code",
   "execution_count": 85,
   "id": "7daad91a-2218-4c49-81e9-1495ccada251",
   "metadata": {},
   "outputs": [
    {
     "name": "stdin",
     "output_type": "stream",
     "text": [
      "Tell me your name:  sam\n"
     ]
    },
    {
     "name": "stdout",
     "output_type": "stream",
     "text": [
      "The first letter in upper-case is:  S\n",
      "Your name with the first letter in upper-case is:  Sam\n"
     ]
    }
   ],
   "source": [
    "user_input = input(\"Tell me your name: \")\n",
    "changed_letter = user_input[0].upper() + user_input[1: ]\n",
    "print(\"The first letter in upper-case is: \", user_input[0].upper())\n",
    "print(\"Your name with the first letter in upper-case is: \", changed_letter)"
   ]
  },
  {
   "cell_type": "markdown",
   "id": "d095bc1b-5aa2-49e2-ad3b-b3d2495cd611",
   "metadata": {},
   "source": [
    "# Review Questions page 33"
   ]
  },
  {
   "cell_type": "code",
   "execution_count": 79,
   "id": "60fc43cf-d670-4b1a-9b65-2fb8099d624e",
   "metadata": {},
   "outputs": [
    {
     "data": {
      "text/plain": [
       "143"
      ]
     },
     "execution_count": 79,
     "metadata": {},
     "output_type": "execute_result"
    }
   ],
   "source": [
    "#1\n",
    "num = '143'\n",
    "int_num = int(num)\n",
    "int_num"
   ]
  },
  {
   "cell_type": "code",
   "execution_count": 80,
   "id": "a91872f2-fcc6-4fdd-bcdc-b1c114db8dd8",
   "metadata": {},
   "outputs": [
    {
     "data": {
      "text/plain": [
       "143.0"
      ]
     },
     "execution_count": 80,
     "metadata": {},
     "output_type": "execute_result"
    }
   ],
   "source": [
    "#2\n",
    "num = '143'\n",
    "float_num = float(num)\n",
    "float_num"
   ]
  },
  {
   "cell_type": "code",
   "execution_count": 88,
   "id": "3680d8e8-fc5b-4de6-94da-52242a6a25d3",
   "metadata": {},
   "outputs": [
    {
     "data": {
      "text/plain": [
       "'1105'"
      ]
     },
     "execution_count": 88,
     "metadata": {},
     "output_type": "execute_result"
    }
   ],
   "source": [
    "#3\n",
    "num1 = '11'\n",
    "num2 = '05'\n",
    "nums = str(num1 + num2)\n",
    "nums"
   ]
  },
  {
   "cell_type": "code",
   "execution_count": 94,
   "id": "bdeb0ec1-fb8f-4cc4-a4c4-7d39d3d537a7",
   "metadata": {},
   "outputs": [
    {
     "name": "stdin",
     "output_type": "stream",
     "text": [
      "Enter a number:  7\n",
      "Enter a number:  8\n"
     ]
    },
    {
     "name": "stdout",
     "output_type": "stream",
     "text": [
      "The product is 56\n"
     ]
    }
   ],
   "source": [
    "num1 = int(input('Enter a number: '))\n",
    "num2 = int(input('Enter a number: '))\n",
    "result = num1 * num2\n",
    "print('The product is', result)"
   ]
  },
  {
   "cell_type": "markdown",
   "id": "5b24e535-08b0-4eb6-91e8-71ea43c9e86c",
   "metadata": {},
   "source": [
    "# Review Questions page 36"
   ]
  },
  {
   "cell_type": "code",
   "execution_count": null,
   "id": "dbf71c46-2869-4544-8252-6b695553d204",
   "metadata": {},
   "outputs": [],
   "source": []
  }
 ],
 "metadata": {
  "kernelspec": {
   "display_name": "Python 3 (ipykernel)",
   "language": "python",
   "name": "python3"
  },
  "language_info": {
   "codemirror_mode": {
    "name": "ipython",
    "version": 3
   },
   "file_extension": ".py",
   "mimetype": "text/x-python",
   "name": "python",
   "nbconvert_exporter": "python",
   "pygments_lexer": "ipython3",
   "version": "3.13.5"
  }
 },
 "nbformat": 4,
 "nbformat_minor": 5
}
