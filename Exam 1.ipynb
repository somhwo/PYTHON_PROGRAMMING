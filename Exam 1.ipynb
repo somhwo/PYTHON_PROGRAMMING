{
 "cells": [
  {
   "cell_type": "markdown",
   "id": "2e29e101-323c-4cc7-ac32-ed4449784a81",
   "metadata": {},
   "source": [
    "# 1st Long Exam 09/10/25"
   ]
  },
  {
   "cell_type": "markdown",
   "id": "7c404cea-0c0e-4d0c-8ad6-d480d1394e4f",
   "metadata": {},
   "source": [
    "# Samantha Singcol ID no.: 23778632"
   ]
  },
  {
   "cell_type": "markdown",
   "id": "363a48a3-1d35-477b-a888-cd1486246350",
   "metadata": {},
   "source": [
    "Question 1"
   ]
  },
  {
   "cell_type": "code",
   "execution_count": 4,
   "id": "6991df35-d8fb-4ae0-9f7c-69962a877ffc",
   "metadata": {},
   "outputs": [
    {
     "name": "stdin",
     "output_type": "stream",
     "text": [
      "Enter your name:  Sam\n"
     ]
    },
    {
     "name": "stdout",
     "output_type": "stream",
     "text": [
      "Hello Sam\n"
     ]
    }
   ],
   "source": [
    "user_input = input(\"Enter your name: \")\n",
    "print(\"Hello\", user_input)"
   ]
  },
  {
   "cell_type": "markdown",
   "id": "bedb1928-a63c-4cf1-8e2a-6f378b627538",
   "metadata": {},
   "source": [
    "Question 2"
   ]
  },
  {
   "cell_type": "code",
   "execution_count": 7,
   "id": "6074440a-ea4c-4f8c-ad23-aaf282f86ed6",
   "metadata": {},
   "outputs": [
    {
     "name": "stdin",
     "output_type": "stream",
     "text": [
      "Enter a positive integer:  6\n"
     ]
    },
    {
     "ename": "TypeError",
     "evalue": "'int' object is not callable",
     "output_type": "error",
     "traceback": [
      "\u001b[1;31m---------------------------------------------------------------------------\u001b[0m",
      "\u001b[1;31mTypeError\u001b[0m                                 Traceback (most recent call last)",
      "Cell \u001b[1;32mIn[7], line 2\u001b[0m\n\u001b[0;32m      1\u001b[0m num \u001b[38;5;241m=\u001b[39m \u001b[38;5;28mint\u001b[39m(\u001b[38;5;28minput\u001b[39m(\u001b[38;5;124m\"\u001b[39m\u001b[38;5;124mEnter a positive integer: \u001b[39m\u001b[38;5;124m\"\u001b[39m))\n\u001b[1;32m----> 2\u001b[0m \u001b[38;5;28msum\u001b[39m \u001b[38;5;241m=\u001b[39m ((num) (num) \u001b[38;5;241m+\u001b[39m\u001b[38;5;241m1\u001b[39m) \u001b[38;5;241m/\u001b[39m\u001b[38;5;241m2\u001b[39m\n\u001b[0;32m      3\u001b[0m \u001b[38;5;28mprint\u001b[39m(\u001b[38;5;124mf\u001b[39m\u001b[38;5;124m\"\u001b[39m\u001b[38;5;124mSum: \u001b[39m\u001b[38;5;132;01m{\u001b[39;00m\u001b[38;5;28msum\u001b[39m\u001b[38;5;132;01m}\u001b[39;00m\u001b[38;5;124m\"\u001b[39m)\n",
      "\u001b[1;31mTypeError\u001b[0m: 'int' object is not callable"
     ]
    }
   ],
   "source": [
    "num = int(input(\"Enter a positive integer: \"))\n",
    "sum = ((num) (num) +1) /2\n",
    "print(f\"Sum: {sum}\")"
   ]
  },
  {
   "cell_type": "markdown",
   "id": "33e339c3-b539-426e-86f5-8d12bcd8f58f",
   "metadata": {},
   "source": [
    "Question 3"
   ]
  },
  {
   "cell_type": "code",
   "execution_count": 11,
   "id": "278966fd-6712-49a9-8451-18317938d3f8",
   "metadata": {},
   "outputs": [
    {
     "name": "stdin",
     "output_type": "stream",
     "text": [
      "Enter a letter from the alphabet:  a\n"
     ]
    },
    {
     "name": "stdout",
     "output_type": "stream",
     "text": [
      "The letter you entered is a vowel.\n"
     ]
    }
   ],
   "source": [
    "user_input = input(\"Enter a letter from the alphabet: \").lower()\n",
    "if user_input == (\"a\") or (\"e\") or (\"i\") or (\"o\") or (\"u\"):\n",
    "    print(\"The letter you entered is a vowel.\")\n",
    "elif user_input == (\"y\"):\n",
    "    print(\"Sometimes y is a vowel, and sometimes y is a consonant.\")\n",
    "else:\n",
    "    print(\"The letter you entered is a consonant.\")"
   ]
  },
  {
   "cell_type": "markdown",
   "id": "f3d4b009-a3cb-44f4-b303-3d07df5fc0e8",
   "metadata": {},
   "source": [
    "Question 4"
   ]
  },
  {
   "cell_type": "code",
   "execution_count": 17,
   "id": "6f680f61-54ea-412e-8604-d8f280f2a28a",
   "metadata": {},
   "outputs": [
    {
     "ename": "SyntaxError",
     "evalue": "expected ':' (452581519.py, line 5)",
     "output_type": "error",
     "traceback": [
      "\u001b[1;36m  Cell \u001b[1;32mIn[17], line 5\u001b[1;36m\u001b[0m\n\u001b[1;33m    else word != word [-1]:\u001b[0m\n\u001b[1;37m         ^\u001b[0m\n\u001b[1;31mSyntaxError\u001b[0m\u001b[1;31m:\u001b[0m expected ':'\n"
     ]
    }
   ],
   "source": [
    "word = input(\"Enter a word: \")\n",
    "for letter in word:\n",
    "    if word[1:] == word [-1]:\n",
    "        print(\"The word is a palindrome.\")\n",
    "    else word != word [-1]:\n",
    "        print(\"The word is not a palindrome.\")\n",
    "break"
   ]
  },
  {
   "cell_type": "code",
   "execution_count": null,
   "id": "6a84a924-b2f8-4a67-9144-5719062ebff8",
   "metadata": {},
   "outputs": [],
   "source": [
    "def hypotenuse(sides):\n",
    "    return(sides **2 + sides **2)) ** 0.5\n",
    "user_sides = int(input(\"Enter the length of the shorter sides of a triangle: \")\n",
    "hypotenuse("
   ]
  }
 ],
 "metadata": {
  "kernelspec": {
   "display_name": "Python 3 (ipykernel)",
   "language": "python",
   "name": "python3"
  },
  "language_info": {
   "codemirror_mode": {
    "name": "ipython",
    "version": 3
   },
   "file_extension": ".py",
   "mimetype": "text/x-python",
   "name": "python",
   "nbconvert_exporter": "python",
   "pygments_lexer": "ipython3",
   "version": "3.13.5"
  }
 },
 "nbformat": 4,
 "nbformat_minor": 5
}
