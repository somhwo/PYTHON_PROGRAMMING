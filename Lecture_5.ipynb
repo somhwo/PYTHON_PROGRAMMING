{
 "cells": [
  {
   "cell_type": "markdown",
   "id": "ec41ca66-cd87-48d7-b25a-cacdba5f07fb",
   "metadata": {},
   "source": [
    "# Lecture 5"
   ]
  },
  {
   "cell_type": "markdown",
   "id": "24288c12-fc1d-4a02-9610-0937ce9e4330",
   "metadata": {},
   "source": [
    "# Review Exercises page 17"
   ]
  },
  {
   "cell_type": "code",
   "execution_count": null,
   "id": "b760bdb9-d6e1-44aa-b664-640de336fa17",
   "metadata": {},
   "outputs": [],
   "source": [
    "#1\n",
    "cardinal_numbers = (\"First\", \"Second\", \"Third\")"
   ]
  },
  {
   "cell_type": "code",
   "execution_count": 8,
   "id": "764c9ed1-c337-482e-86aa-1793deb0b64a",
   "metadata": {},
   "outputs": [
    {
     "name": "stdout",
     "output_type": "stream",
     "text": [
      "Second\n"
     ]
    }
   ],
   "source": [
    "#2\n",
    "print(cardinal_numbers[1])"
   ]
  },
  {
   "cell_type": "code",
   "execution_count": 10,
   "id": "97d67ec4-ca90-4a85-a307-edc12e8ed9a6",
   "metadata": {},
   "outputs": [
    {
     "name": "stdout",
     "output_type": "stream",
     "text": [
      "Position 1: First\n",
      "Position 2: Second\n",
      "Position 3: Third\n"
     ]
    }
   ],
   "source": [
    "#3\n",
    "position1, position2, position3 = cardinal_numbers\n",
    "print(\"Position 1:\", position1)\n",
    "print(\"Position 2:\", position2)\n",
    "print(\"Position 3:\", position3)"
   ]
  },
  {
   "cell_type": "code",
   "execution_count": 17,
   "id": "ef2b3649-9b98-4373-939e-b50985180235",
   "metadata": {},
   "outputs": [
    {
     "name": "stdout",
     "output_type": "stream",
     "text": [
      "('S', 'a', 'm', 'a', 'n', 't', 'h', 'a')\n"
     ]
    }
   ],
   "source": [
    "#4\n",
    "my_name = tuple('Samantha')\n",
    "print(my_name)"
   ]
  },
  {
   "cell_type": "code",
   "execution_count": 5,
   "id": "2db92ee2-d669-4ead-a92a-1342c83277c5",
   "metadata": {},
   "outputs": [
    {
     "name": "stdout",
     "output_type": "stream",
     "text": [
      "There is no letter 'X' in your name.\n"
     ]
    }
   ],
   "source": [
    "#5\n",
    "if 'X' in my_name or 'x' in my_name:\n",
    "    print(\"There is a letter 'X' in your name.\")\n",
    "else:\n",
    "    print(\"There is no letter 'X' in your name.\")"
   ]
  },
  {
   "cell_type": "code",
   "execution_count": 11,
   "id": "e976d18a-b5e4-4014-9523-4d15024e0c32",
   "metadata": {},
   "outputs": [
    {
     "name": "stdout",
     "output_type": "stream",
     "text": [
      "('a', 'm', 'a', 'n', 't', 'h', 'a')\n"
     ]
    }
   ],
   "source": [
    "#6\n",
    "no_firstletter = print (my_name[1:])"
   ]
  },
  {
   "cell_type": "markdown",
   "id": "588d8d41-8eec-4233-a8e3-69bcd51c9056",
   "metadata": {},
   "source": [
    "# Review Exercises page 36"
   ]
  },
  {
   "cell_type": "code",
   "execution_count": 20,
   "id": "39f95c8c-3b43-4075-8e28-aae40e059e8d",
   "metadata": {},
   "outputs": [
    {
     "name": "stdout",
     "output_type": "stream",
     "text": [
      "['Rice', 'Beans']\n"
     ]
    }
   ],
   "source": [
    "#1\n",
    "food = ['Rice', 'Beans']\n",
    "print(food)"
   ]
  },
  {
   "cell_type": "code",
   "execution_count": 21,
   "id": "2700f62b-1812-4c78-98ec-d935cd031d2d",
   "metadata": {},
   "outputs": [
    {
     "name": "stdout",
     "output_type": "stream",
     "text": [
      "['Rice', 'Beans', 'Broccoli']\n"
     ]
    }
   ],
   "source": [
    "#2\n",
    "food.append('Broccoli')\n",
    "print(food)"
   ]
  },
  {
   "cell_type": "code",
   "execution_count": 24,
   "id": "d3b9fe72-144a-4d18-a800-5647571327af",
   "metadata": {},
   "outputs": [
    {
     "name": "stdout",
     "output_type": "stream",
     "text": [
      "['Rice', 'Beans', 'Broccoli', 'Bread', 'Pizza']\n"
     ]
    }
   ],
   "source": [
    "#3\n",
    "food_2 = ['Bread', 'Pizza']\n",
    "food.extend(food_2)\n",
    "print(food)"
   ]
  },
  {
   "cell_type": "code",
   "execution_count": 28,
   "id": "c2a52279-62cc-42dc-8c6e-f77153ec6e0b",
   "metadata": {},
   "outputs": [
    {
     "name": "stdout",
     "output_type": "stream",
     "text": [
      "['Rice', 'Beans']\n"
     ]
    }
   ],
   "source": [
    "#4\n",
    "print(food[0:2])"
   ]
  },
  {
   "cell_type": "code",
   "execution_count": null,
   "id": "957349ee-535e-484d-bae5-082edbd496fd",
   "metadata": {},
   "outputs": [],
   "source": [
    "#5"
   ]
  }
 ],
 "metadata": {
  "kernelspec": {
   "display_name": "Python 3 (ipykernel)",
   "language": "python",
   "name": "python3"
  },
  "language_info": {
   "codemirror_mode": {
    "name": "ipython",
    "version": 3
   },
   "file_extension": ".py",
   "mimetype": "text/x-python",
   "name": "python",
   "nbconvert_exporter": "python",
   "pygments_lexer": "ipython3",
   "version": "3.13.5"
  }
 },
 "nbformat": 4,
 "nbformat_minor": 5
}
