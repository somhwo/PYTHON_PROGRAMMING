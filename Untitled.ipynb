{
 "cells": [
  {
   "cell_type": "markdown",
   "id": "025f5a4a-fcd3-4512-8765-2c7ff4804183",
   "metadata": {},
   "source": [
    "# Review Exercises page 5 "
   ]
  },
  {
   "cell_type": "code",
   "execution_count": 33,
   "id": "c96e6bc9-386e-4243-bf0b-1e0b907a18e3",
   "metadata": {},
   "outputs": [
    {
     "name": "stdout",
     "output_type": "stream",
     "text": [
      "True\n",
      "False\n",
      "True\n",
      "True\n",
      "False\n"
     ]
    }
   ],
   "source": [
    "#1\n",
    "#true\n",
    "print(1 <= 1)\n",
    "#false\n",
    "print(1 != 1)\n",
    "#true\n",
    "print(\"good\" != \"bad\")\n",
    "#true\n",
    "print(\"good\" != \"Good\")\n",
    "#false\n",
    "print(123 == \"123\")"
   ]
  },
  {
   "cell_type": "code",
   "execution_count": 29,
   "id": "0f304e31-a18b-4a3c-8a59-c82dd72464e5",
   "metadata": {},
   "outputs": [
    {
     "name": "stdout",
     "output_type": "stream",
     "text": [
      "True\n",
      "True\n",
      "True\n",
      "True\n"
     ]
    }
   ],
   "source": [
    "#2\n",
    "print(3 < 4)\n",
    "print(10 > 5)\n",
    "print(\"jack\" != \"jill\")\n",
    "print(42 != \"42\")"
   ]
  },
  {
   "cell_type": "markdown",
   "id": "701ac62c-8c72-432d-b90c-4c305c1dcea4",
   "metadata": {},
   "source": [
    "# Review Exercises page 10"
   ]
  },
  {
   "cell_type": "code",
   "execution_count": 38,
   "id": "1ec81cea-ce40-46d6-8318-3435fb71f417",
   "metadata": {},
   "outputs": [
    {
     "name": "stdout",
     "output_type": "stream",
     "text": [
      "True\n",
      "False\n",
      "True\n",
      "True\n"
     ]
    }
   ],
   "source": [
    "#1\n",
    "#true\n",
    "print(1 <=1) and (1 != 1)\n",
    "#false\n",
    "print (not(1 != 2))\n",
    "#true\n",
    "print(\"good\" != \"bad\") or False\n",
    "#true\n",
    "print(\"good\" != \"Good\") and not (1==1)"
   ]
  },
  {
   "cell_type": "code",
   "execution_count": 40,
   "id": "140eee74-700c-4c53-bedf-7b740ca65815",
   "metadata": {},
   "outputs": [
    {
     "name": "stdout",
     "output_type": "stream",
     "text": [
      "True\n",
      "True\n",
      "True\n"
     ]
    }
   ],
   "source": [
    "#2\n",
    "print(False == (not True))\n",
    "print(True and False == (True and False))\n",
    "print(not (True and \"A\" == \"B\"))"
   ]
  },
  {
   "cell_type": "markdown",
   "id": "13092e98-8317-48c1-a0d5-e72458e13b23",
   "metadata": {},
   "source": [
    "# Review Exercises page 15"
   ]
  },
  {
   "cell_type": "code",
   "execution_count": 12,
   "id": "718282a6-51d4-471e-956a-651a3e563dff",
   "metadata": {},
   "outputs": [
    {
     "name": "stdin",
     "output_type": "stream",
     "text": [
      "Enter a word:  sd\n"
     ]
    },
    {
     "name": "stdout",
     "output_type": "stream",
     "text": [
      "The length is less than 5.\n"
     ]
    }
   ],
   "source": [
    "word = input(\"Enter a word: \")\n",
    "word_length = len(word)\n",
    "\n",
    "if word_length < 5:\n",
    "    print(\"The length is less than 5.\")\n",
    "elif word_length > 5:\n",
    "    print(\"The length is more than 5.\")\n",
    "else:\n",
    "    print(\"The length is equals to 5.\")"
   ]
  },
  {
   "cell_type": "markdown",
   "id": "acd15df6-108d-4bba-97e8-8d6e7aab6a74",
   "metadata": {},
   "source": [
    "# Review Exercises page 20"
   ]
  },
  {
   "cell_type": "code",
   "execution_count": 14,
   "id": "070c87aa-4ae3-4f76-b666-f1f0d51d85a9",
   "metadata": {},
   "outputs": [
    {
     "name": "stdin",
     "output_type": "stream",
     "text": [
      "Enter an input:  q\n"
     ]
    }
   ],
   "source": [
    "#1 \n",
    "while True:\n",
    "    user_input = input(\"Enter an input: \")\n",
    "    if user_input == \"Q\" or \"q\":\n",
    "        break"
   ]
  },
  {
   "cell_type": "code",
   "execution_count": 13,
   "id": "4f82745c-2b28-47a3-8281-a98031b20be0",
   "metadata": {},
   "outputs": [
    {
     "name": "stdout",
     "output_type": "stream",
     "text": [
      "1\n",
      "2\n",
      "4\n",
      "5\n",
      "7\n",
      "8\n",
      "10\n",
      "11\n",
      "13\n",
      "14\n",
      "16\n",
      "17\n",
      "19\n",
      "20\n",
      "22\n",
      "23\n",
      "25\n",
      "26\n",
      "28\n",
      "29\n",
      "31\n",
      "32\n",
      "34\n",
      "35\n",
      "37\n",
      "38\n",
      "40\n",
      "41\n",
      "43\n",
      "44\n",
      "46\n",
      "47\n",
      "49\n",
      "50\n"
     ]
    }
   ],
   "source": [
    "#2\n",
    "for i in range(1, 51):\n",
    "    if i % 3 != 0:\n",
    "        print(i)"
   ]
  },
  {
   "cell_type": "markdown",
   "id": "b6081c62-fb4e-49be-aaba-16f8fb1d24a4",
   "metadata": {},
   "source": [
    "# Review Exercises page 32"
   ]
  },
  {
   "cell_type": "code",
   "execution_count": null,
   "id": "d2295787-9cb8-44db-9e62-ed7df6b0f4d5",
   "metadata": {},
   "outputs": [],
   "source": [
    "#1\n",
    "import random\n",
    "def roll(1, 7):\n",
    "    random.randint"
   ]
  }
 ],
 "metadata": {
  "kernelspec": {
   "display_name": "Python 3 (ipykernel)",
   "language": "python",
   "name": "python3"
  },
  "language_info": {
   "codemirror_mode": {
    "name": "ipython",
    "version": 3
   },
   "file_extension": ".py",
   "mimetype": "text/x-python",
   "name": "python",
   "nbconvert_exporter": "python",
   "pygments_lexer": "ipython3",
   "version": "3.13.5"
  }
 },
 "nbformat": 4,
 "nbformat_minor": 5
}
