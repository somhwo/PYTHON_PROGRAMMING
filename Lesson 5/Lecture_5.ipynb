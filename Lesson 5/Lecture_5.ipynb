{
 "cells": [
  {
   "cell_type": "markdown",
   "id": "ec41ca66-cd87-48d7-b25a-cacdba5f07fb",
   "metadata": {},
   "source": [
    "# Lecture 5"
   ]
  },
  {
   "cell_type": "markdown",
   "id": "24288c12-fc1d-4a02-9610-0937ce9e4330",
   "metadata": {},
   "source": [
    "# Review Exercises page 17"
   ]
  },
  {
   "cell_type": "code",
   "execution_count": null,
   "id": "b760bdb9-d6e1-44aa-b664-640de336fa17",
   "metadata": {},
   "outputs": [],
   "source": [
    "#1\n",
    "cardinal_numbers = (\"First\", \"Second\", \"Third\")"
   ]
  },
  {
   "cell_type": "code",
   "execution_count": 8,
   "id": "764c9ed1-c337-482e-86aa-1793deb0b64a",
   "metadata": {},
   "outputs": [
    {
     "name": "stdout",
     "output_type": "stream",
     "text": [
      "Second\n"
     ]
    }
   ],
   "source": [
    "#2\n",
    "print(cardinal_numbers[1])"
   ]
  },
  {
   "cell_type": "code",
   "execution_count": 10,
   "id": "97d67ec4-ca90-4a85-a307-edc12e8ed9a6",
   "metadata": {},
   "outputs": [
    {
     "name": "stdout",
     "output_type": "stream",
     "text": [
      "Position 1: First\n",
      "Position 2: Second\n",
      "Position 3: Third\n"
     ]
    }
   ],
   "source": [
    "#3\n",
    "position1, position2, position3 = cardinal_numbers\n",
    "print(\"Position 1:\", position1)\n",
    "print(\"Position 2:\", position2)\n",
    "print(\"Position 3:\", position3)"
   ]
  },
  {
   "cell_type": "code",
   "execution_count": 17,
   "id": "ef2b3649-9b98-4373-939e-b50985180235",
   "metadata": {},
   "outputs": [
    {
     "name": "stdout",
     "output_type": "stream",
     "text": [
      "('S', 'a', 'm', 'a', 'n', 't', 'h', 'a')\n"
     ]
    }
   ],
   "source": [
    "#4\n",
    "my_name = tuple('Samantha')\n",
    "print(my_name)"
   ]
  },
  {
   "cell_type": "code",
   "execution_count": 5,
   "id": "2db92ee2-d669-4ead-a92a-1342c83277c5",
   "metadata": {},
   "outputs": [
    {
     "name": "stdout",
     "output_type": "stream",
     "text": [
      "There is no letter 'X' in your name.\n"
     ]
    }
   ],
   "source": [
    "#5\n",
    "if 'X' in my_name or 'x' in my_name:\n",
    "    print(\"There is a letter 'X' in your name.\")\n",
    "else:\n",
    "    print(\"There is no letter 'X' in your name.\")"
   ]
  },
  {
   "cell_type": "code",
   "execution_count": 11,
   "id": "e976d18a-b5e4-4014-9523-4d15024e0c32",
   "metadata": {},
   "outputs": [
    {
     "name": "stdout",
     "output_type": "stream",
     "text": [
      "('a', 'm', 'a', 'n', 't', 'h', 'a')\n"
     ]
    }
   ],
   "source": [
    "#6\n",
    "no_firstletter = print (my_name[1:])"
   ]
  },
  {
   "cell_type": "markdown",
   "id": "588d8d41-8eec-4233-a8e3-69bcd51c9056",
   "metadata": {},
   "source": [
    "# Review Exercises page 36"
   ]
  },
  {
   "cell_type": "code",
   "execution_count": 8,
   "id": "39f95c8c-3b43-4075-8e28-aae40e059e8d",
   "metadata": {},
   "outputs": [
    {
     "name": "stdout",
     "output_type": "stream",
     "text": [
      "['Rice', 'Beans']\n"
     ]
    }
   ],
   "source": [
    "#1\n",
    "food = ['Rice', 'Beans']\n",
    "print(food)"
   ]
  },
  {
   "cell_type": "code",
   "execution_count": 9,
   "id": "2700f62b-1812-4c78-98ec-d935cd031d2d",
   "metadata": {},
   "outputs": [
    {
     "name": "stdout",
     "output_type": "stream",
     "text": [
      "['Rice', 'Beans', 'Broccoli']\n"
     ]
    }
   ],
   "source": [
    "#2\n",
    "food.append('Broccoli')\n",
    "print(food)"
   ]
  },
  {
   "cell_type": "code",
   "execution_count": 10,
   "id": "d3b9fe72-144a-4d18-a800-5647571327af",
   "metadata": {},
   "outputs": [
    {
     "name": "stdout",
     "output_type": "stream",
     "text": [
      "['Rice', 'Beans', 'Broccoli', 'Bread', 'Pizza']\n"
     ]
    }
   ],
   "source": [
    "#3\n",
    "food_2 = ['Bread', 'Pizza']\n",
    "food.extend(food_2)\n",
    "print(food)"
   ]
  },
  {
   "cell_type": "code",
   "execution_count": 11,
   "id": "c2a52279-62cc-42dc-8c6e-f77153ec6e0b",
   "metadata": {},
   "outputs": [
    {
     "name": "stdout",
     "output_type": "stream",
     "text": [
      "['Rice', 'Beans']\n"
     ]
    }
   ],
   "source": [
    "#4\n",
    "print(food[0:2])"
   ]
  },
  {
   "cell_type": "code",
   "execution_count": 12,
   "id": "957349ee-535e-484d-bae5-082edbd496fd",
   "metadata": {},
   "outputs": [
    {
     "name": "stdout",
     "output_type": "stream",
     "text": [
      "['Pizza']\n"
     ]
    }
   ],
   "source": [
    "#5\n",
    "print(food[-1:])"
   ]
  },
  {
   "cell_type": "code",
   "execution_count": 18,
   "id": "bd061d26-0c46-4393-8212-6f25ab838bca",
   "metadata": {},
   "outputs": [
    {
     "name": "stdout",
     "output_type": "stream",
     "text": [
      "['Eggs', 'Fruit', 'Orange juice']\n"
     ]
    }
   ],
   "source": [
    "#6\n",
    "food = \"Eggs, Fruit, Orange juice\"\n",
    "breakfast = food.split(\", \")\n",
    "print(breakfast)"
   ]
  },
  {
   "cell_type": "code",
   "execution_count": 19,
   "id": "e5365f97-f7ce-4e6a-a7fa-a9f592e1c6ff",
   "metadata": {},
   "outputs": [
    {
     "name": "stdout",
     "output_type": "stream",
     "text": [
      "3\n"
     ]
    }
   ],
   "source": [
    "#7\n",
    "print(len(breakfast))"
   ]
  },
  {
   "cell_type": "code",
   "execution_count": 20,
   "id": "6b79235b-5f8d-47a9-8592-30066549c053",
   "metadata": {},
   "outputs": [
    {
     "name": "stdout",
     "output_type": "stream",
     "text": [
      "[4, 5, 12]\n"
     ]
    }
   ],
   "source": [
    "#8\n",
    "lengths = [len(food) for food in breakfast]\n",
    "print(lengths)"
   ]
  },
  {
   "cell_type": "markdown",
   "id": "ba9ef529-c632-4b44-bcc3-2746f3502acd",
   "metadata": {},
   "source": [
    "# Review Exercises page 41\n"
   ]
  },
  {
   "cell_type": "code",
   "execution_count": 21,
   "id": "1dfe8312-eeac-4328-a45e-5f32428f6260",
   "metadata": {},
   "outputs": [
    {
     "name": "stdout",
     "output_type": "stream",
     "text": [
      "((1, 2), (3, 4))\n"
     ]
    }
   ],
   "source": [
    "#1\n",
    "tuple_data = ((1, 2), (3, 4))\n",
    "print(tuple_data)"
   ]
  },
  {
   "cell_type": "code",
   "execution_count": 25,
   "id": "2c804f6a-e632-44cb-83f0-61cd17975065",
   "metadata": {},
   "outputs": [
    {
     "name": "stdout",
     "output_type": "stream",
     "text": [
      "Row 1 sum: 3\n",
      "Row 2 sum: 7\n"
     ]
    }
   ],
   "source": [
    "#2\n",
    "count = 0\n",
    "for num in tuple_data:\n",
    "    total = sum(num)\n",
    "    count += 1\n",
    "    print(f\"Row {count} sum: {total}\")"
   ]
  },
  {
   "cell_type": "code",
   "execution_count": 26,
   "id": "86c03488-9c83-4dfe-a9b4-c952e0772ebd",
   "metadata": {},
   "outputs": [
    {
     "name": "stdout",
     "output_type": "stream",
     "text": [
      "((1, 2), (3, 4))\n"
     ]
    }
   ],
   "source": [
    "#4\n",
    "num = tuple_data[:]\n",
    "print(num)"
   ]
  },
  {
   "cell_type": "code",
   "execution_count": 35,
   "id": "12fd21c0-6e56-4406-bfc5-6891c48d5cd2",
   "metadata": {},
   "outputs": [
    {
     "name": "stdout",
     "output_type": "stream",
     "text": [
      "[(1, 2), (3, 4)]\n"
     ]
    }
   ],
   "source": [
    "#5\n",
    "num_list = list(tuple_data) \n",
    "num_list.sort()\n",
    "print(num_list)"
   ]
  },
  {
   "cell_type": "markdown",
   "id": "3bddf749-9487-4bdc-9097-5776144f1029",
   "metadata": {},
   "source": [
    "# Challenge: List of Lists page 42"
   ]
  },
  {
   "cell_type": "code",
   "execution_count": 37,
   "id": "89cb623a-5ce2-4812-981d-0edb3dd9b50c",
   "metadata": {},
   "outputs": [
    {
     "data": {
      "text/plain": [
       "[['California Institute of Technology', 2175, 37704],\n",
       " ['Harvard', 19627, 39849],\n",
       " ['Massachusetts Institute of Technology', 10566, 40732],\n",
       " ['Princeton', 7802, 37000],\n",
       " ['Rice', 5879, 35551],\n",
       " ['Stanford', 19535, 40569],\n",
       " ['Yale', 117011, 40500]]"
      ]
     },
     "execution_count": 37,
     "metadata": {},
     "output_type": "execute_result"
    }
   ],
   "source": [
    "universities = [\n",
    "    ['California Institute of Technology', 2175, 37704],\n",
    "    ['Harvard', 19627, 39849],\n",
    "    ['Massachusetts Institute of Technology', 10566,  40732],\n",
    "    ['Princeton', 7802, 37000],\n",
    "    ['Rice', 5879, 35551],\n",
    "    ['Stanford', 19535, 40569],\n",
    "    ['Yale', 117011, 40500]\n",
    "]\n",
    "universities"
   ]
  },
  {
   "cell_type": "markdown",
   "id": "4671e975-76f5-47e6-a0e3-40459bae9ebf",
   "metadata": {},
   "source": [
    "# Challenge: Wax Poetic page 43"
   ]
  },
  {
   "cell_type": "code",
   "execution_count": null,
   "id": "6e880f4d-cb45-4d5f-9e98-e3cfdbffae9f",
   "metadata": {},
   "outputs": [],
   "source": [
    "Nouns = [\"Fossil\", \"Horse\", \"Aardvark\", \"Judge\", \"Chef\", \"Mango\", \"Extrovert\", \"Gorilla\"]\n",
    "\n",
    "Verbs = [\"Kicks\", \"Jingles\", \"Bounces\", \"Slurps\", \"Meows\", \"Explodes\", \"Curdles\"]\n",
    "\n",
    "Adjectives = [\"Furry\", \"Balding\", \"Incredulous\", \"Fragrant\", \"Exuberant\", \"Glistening\"]\n",
    "\n",
    "Prepositions = [\"Against\", \"After\", \"Into\", \"Beneath\", \"Upon\", \"For\", \"In\", \"Like\", \"Over\", \"Within\"]\n",
    "\n",
    "Adverbs = [\"Curiously\", \"Furiously\", \"Sensuously\", \"Extravagantly\", \"Tantalizingly\"]"
   ]
  },
  {
   "cell_type": "markdown",
   "id": "b560e004-8204-49b7-972d-98868e39afb6",
   "metadata": {},
   "source": [
    "# Review Exercises page 57 - 58"
   ]
  },
  {
   "cell_type": "code",
   "execution_count": 41,
   "id": "87d264cb-612e-435d-9190-95137b6f174f",
   "metadata": {},
   "outputs": [],
   "source": [
    "#1\n",
    "captains = {}"
   ]
  },
  {
   "cell_type": "code",
   "execution_count": 40,
   "id": "d2907deb-99a9-4a74-a450-b07a87cea0ac",
   "metadata": {},
   "outputs": [
    {
     "name": "stdout",
     "output_type": "stream",
     "text": [
      "{'Enterprise': 'Picard', 'Voyager': 'Janeway', 'Defiant': 'Sisko'}\n"
     ]
    }
   ],
   "source": [
    "#2\n",
    "captains = {'Enterprise': 'Picard',\n",
    "            'Voyager': 'Janeway',\n",
    "            'Defiant': 'Sisko'}\n",
    "print(captains)"
   ]
  },
  {
   "cell_type": "code",
   "execution_count": 13,
   "id": "18d78cd2-001f-4f0f-a0e4-7ccaa5cde880",
   "metadata": {},
   "outputs": [],
   "source": [
    "#3\n",
    "if \"Enterprise\" not in captains:\n",
    "    captains[\"Enterprise\"] = \"Unknown\"\n",
    "if \"Discovery\" not in captains:\n",
    "    captains[\"Discovery\"] = \"Unknown\""
   ]
  },
  {
   "cell_type": "code",
   "execution_count": 15,
   "id": "27187ec7-a3c9-4f2b-9a81-4d9f39979072",
   "metadata": {},
   "outputs": [
    {
     "name": "stdout",
     "output_type": "stream",
     "text": [
      "The Enterprise is captained by Picard.\n",
      "The Voyager is captained by Janeway.\n",
      "The Defiant is captained by Sisko.\n",
      "The Discovery is captained by Unknown.\n"
     ]
    }
   ],
   "source": [
    "#4\n",
    "for ship in captains:\n",
    "    print(f\"The {ship} is captained by {captains[ship]}.\")"
   ]
  },
  {
   "cell_type": "code",
   "execution_count": 17,
   "id": "b81244ac-b894-43a7-b099-bc0e8cb07ea4",
   "metadata": {},
   "outputs": [
    {
     "ename": "KeyError",
     "evalue": "'Discovery'",
     "output_type": "error",
     "traceback": [
      "\u001b[1;31m---------------------------------------------------------------------------\u001b[0m",
      "\u001b[1;31mKeyError\u001b[0m                                  Traceback (most recent call last)",
      "Cell \u001b[1;32mIn[17], line 2\u001b[0m\n\u001b[0;32m      1\u001b[0m \u001b[38;5;66;03m#5\u001b[39;00m\n\u001b[1;32m----> 2\u001b[0m \u001b[38;5;28;01mdel\u001b[39;00m captains[\u001b[38;5;124m\"\u001b[39m\u001b[38;5;124mDiscovery\u001b[39m\u001b[38;5;124m\"\u001b[39m]\n\u001b[0;32m      3\u001b[0m \u001b[38;5;28mprint\u001b[39m(captains)\n",
      "\u001b[1;31mKeyError\u001b[0m: 'Discovery'"
     ]
    }
   ],
   "source": [
    "#5\n",
    "del captains[\"Discovery\"]\n",
    "print(captains)"
   ]
  },
  {
   "cell_type": "code",
   "execution_count": 19,
   "id": "1efc05c4-df48-43f8-bf25-cefff18dc700",
   "metadata": {},
   "outputs": [],
   "source": [
    "#6\n",
    "captains = dict(Enterprise='Picard', Voyager='Janeway', Defiant='Sisko')\\\n",
    "pri"
   ]
  },
  {
   "cell_type": "markdown",
   "id": "cc9b6ead-ca30-42d0-9053-3d5f00410d2d",
   "metadata": {},
   "source": [
    "# Challenge: Capital City Loop page 59"
   ]
  },
  {
   "cell_type": "code",
   "execution_count": null,
   "id": "f789f1c1-8992-4900-b1ff-6455bb4ec94d",
   "metadata": {},
   "outputs": [],
   "source": [
    "capitals_dict - {\n",
    "    'Alabama': 'Montgomery',\n",
    "    'Alaska': 'Juneau',\n",
    "    'Arizona': 'Phoenix',\n",
    "    'Arkansas': 'Little Rock',\n",
    "    'California': 'Sacramento',\n",
    "    'Colorado': 'Denver',\n",
    "    'Connecticut': 'Hartford',\n",
    "    'Delaware': 'Dover',\n",
    "    'Florida': 'Tallahassee',\n",
    "    'Georgia': 'Atlanta',\n",
    "}"
   ]
  }
 ],
 "metadata": {
  "kernelspec": {
   "display_name": "Python 3 (ipykernel)",
   "language": "python",
   "name": "python3"
  },
  "language_info": {
   "codemirror_mode": {
    "name": "ipython",
    "version": 3
   },
   "file_extension": ".py",
   "mimetype": "text/x-python",
   "name": "python",
   "nbconvert_exporter": "python",
   "pygments_lexer": "ipython3",
   "version": "3.13.5"
  }
 },
 "nbformat": 4,
 "nbformat_minor": 5
}
