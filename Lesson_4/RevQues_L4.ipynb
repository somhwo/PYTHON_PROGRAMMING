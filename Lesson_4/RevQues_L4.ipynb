{
 "cells": [
  {
   "cell_type": "markdown",
   "id": "025f5a4a-fcd3-4512-8765-2c7ff4804183",
   "metadata": {},
   "source": [
    "# Review Exercises page 5 "
   ]
  },
  {
   "cell_type": "code",
   "execution_count": 33,
   "id": "c96e6bc9-386e-4243-bf0b-1e0b907a18e3",
   "metadata": {},
   "outputs": [
    {
     "name": "stdout",
     "output_type": "stream",
     "text": [
      "True\n",
      "False\n",
      "True\n",
      "True\n",
      "False\n"
     ]
    }
   ],
   "source": [
    "#1\n",
    "#true\n",
    "print(1 <= 1)\n",
    "#false\n",
    "print(1 != 1)\n",
    "#true\n",
    "print(\"good\" != \"bad\")\n",
    "#true\n",
    "print(\"good\" != \"Good\")\n",
    "#false\n",
    "print(123 == \"123\")"
   ]
  },
  {
   "cell_type": "code",
   "execution_count": 29,
   "id": "0f304e31-a18b-4a3c-8a59-c82dd72464e5",
   "metadata": {},
   "outputs": [
    {
     "name": "stdout",
     "output_type": "stream",
     "text": [
      "True\n",
      "True\n",
      "True\n",
      "True\n"
     ]
    }
   ],
   "source": [
    "#2\n",
    "print(3 < 4)\n",
    "print(10 > 5)\n",
    "print(\"jack\" != \"jill\")\n",
    "print(42 != \"42\")"
   ]
  },
  {
   "cell_type": "markdown",
   "id": "701ac62c-8c72-432d-b90c-4c305c1dcea4",
   "metadata": {},
   "source": [
    "# Review Exercises page 10"
   ]
  },
  {
   "cell_type": "code",
   "execution_count": 38,
   "id": "1ec81cea-ce40-46d6-8318-3435fb71f417",
   "metadata": {},
   "outputs": [
    {
     "name": "stdout",
     "output_type": "stream",
     "text": [
      "True\n",
      "False\n",
      "True\n",
      "True\n"
     ]
    }
   ],
   "source": [
    "#1\n",
    "#true\n",
    "print(1 <=1) and (1 != 1)\n",
    "#false\n",
    "print (not(1 != 2))\n",
    "#true\n",
    "print(\"good\" != \"bad\") or False\n",
    "#true\n",
    "print(\"good\" != \"Good\") and not (1==1)"
   ]
  },
  {
   "cell_type": "code",
   "execution_count": 40,
   "id": "140eee74-700c-4c53-bedf-7b740ca65815",
   "metadata": {},
   "outputs": [
    {
     "name": "stdout",
     "output_type": "stream",
     "text": [
      "True\n",
      "True\n",
      "True\n"
     ]
    }
   ],
   "source": [
    "#2\n",
    "print(False == (not True))\n",
    "print(True and False == (True and False))\n",
    "print(not (True and \"A\" == \"B\"))"
   ]
  },
  {
   "cell_type": "markdown",
   "id": "13092e98-8317-48c1-a0d5-e72458e13b23",
   "metadata": {},
   "source": [
    "# Review Exercises page 15"
   ]
  },
  {
   "cell_type": "code",
   "execution_count": 12,
   "id": "718282a6-51d4-471e-956a-651a3e563dff",
   "metadata": {},
   "outputs": [
    {
     "name": "stdin",
     "output_type": "stream",
     "text": [
      "Enter a word:  sd\n"
     ]
    },
    {
     "name": "stdout",
     "output_type": "stream",
     "text": [
      "The length is less than 5.\n"
     ]
    }
   ],
   "source": [
    "word = input(\"Enter a word: \")\n",
    "word_length = len(word)\n",
    "\n",
    "if word_length < 5:\n",
    "    print(\"The length is less than 5.\")\n",
    "elif word_length > 5:\n",
    "    print(\"The length is more than 5.\")\n",
    "else:\n",
    "    print(\"The length is equals to 5.\")"
   ]
  },
  {
   "cell_type": "markdown",
   "id": "acd15df6-108d-4bba-97e8-8d6e7aab6a74",
   "metadata": {},
   "source": [
    "# Review Exercises page 20"
   ]
  },
  {
   "cell_type": "code",
   "execution_count": 14,
   "id": "070c87aa-4ae3-4f76-b666-f1f0d51d85a9",
   "metadata": {},
   "outputs": [
    {
     "name": "stdin",
     "output_type": "stream",
     "text": [
      "Enter an input:  q\n"
     ]
    }
   ],
   "source": [
    "#1 \n",
    "while True:\n",
    "    user_input = input(\"Enter an input: \")\n",
    "    if user_input == \"Q\" or \"q\":\n",
    "        break"
   ]
  },
  {
   "cell_type": "code",
   "execution_count": 13,
   "id": "4f82745c-2b28-47a3-8281-a98031b20be0",
   "metadata": {},
   "outputs": [
    {
     "name": "stdout",
     "output_type": "stream",
     "text": [
      "1\n",
      "2\n",
      "4\n",
      "5\n",
      "7\n",
      "8\n",
      "10\n",
      "11\n",
      "13\n",
      "14\n",
      "16\n",
      "17\n",
      "19\n",
      "20\n",
      "22\n",
      "23\n",
      "25\n",
      "26\n",
      "28\n",
      "29\n",
      "31\n",
      "32\n",
      "34\n",
      "35\n",
      "37\n",
      "38\n",
      "40\n",
      "41\n",
      "43\n",
      "44\n",
      "46\n",
      "47\n",
      "49\n",
      "50\n"
     ]
    }
   ],
   "source": [
    "#2\n",
    "for i in range(1, 51):\n",
    "    if i % 3 != 0:\n",
    "        print(i)"
   ]
  },
  {
   "cell_type": "markdown",
   "id": "47b4bf14-ee47-4ff1-8e39-5e63659f879b",
   "metadata": {},
   "source": [
    "# Review Exercises page 28"
   ]
  },
  {
   "cell_type": "code",
   "execution_count": 3,
   "id": "92207715-6cf3-4b7c-91cd-2ac24d59d70d",
   "metadata": {},
   "outputs": [
    {
     "name": "stdin",
     "output_type": "stream",
     "text": [
      "Please enter an integer:  wth\n"
     ]
    },
    {
     "name": "stdout",
     "output_type": "stream",
     "text": [
      "Please enter an integer.\n"
     ]
    },
    {
     "name": "stdin",
     "output_type": "stream",
     "text": [
      "Please enter an integer:  143\n"
     ]
    },
    {
     "name": "stdout",
     "output_type": "stream",
     "text": [
      "You entered the integer: 143\n"
     ]
    }
   ],
   "source": [
    "#1\n",
    "while True:\n",
    "    try:\n",
    "        user_input = int(input(\"Please enter an integer: \"))\n",
    "        result = print(f\"You entered the integer: {user_input}\")\n",
    "        break\n",
    "    except ValueError:\n",
    "        print(\"Please enter an integer.\")"
   ]
  },
  {
   "cell_type": "code",
   "execution_count": 5,
   "id": "97d3f24e-d958-49ae-927a-0286ddf24809",
   "metadata": {},
   "outputs": [
    {
     "name": "stdin",
     "output_type": "stream",
     "text": [
      "Enter a string:  what the \n",
      "Enter an integer (index):  7\n"
     ]
    },
    {
     "name": "stdout",
     "output_type": "stream",
     "text": [
      "The character at index 7 is: e\n"
     ]
    }
   ],
   "source": [
    "#2\n",
    "import random\n",
    "\n",
    "user_string = input(\"Enter a string: \")\n",
    "try:\n",
    "    n = int(input(\"Enter an integer (index): \"))\n",
    "    print(f\"The character at index {n} is: {user_string[n]}\")\n",
    "except IndexError:\n",
    "    print(f\"Index {n} is out of range. Please enter a valid index.\")\n",
    "except ValueError:\n",
    "    print(\"That's not an integer! Please enter a valid integer for the index.\")\n"
   ]
  },
  {
   "cell_type": "markdown",
   "id": "b6081c62-fb4e-49be-aaba-16f8fb1d24a4",
   "metadata": {},
   "source": [
    "# Review Exercises page 32"
   ]
  },
  {
   "cell_type": "code",
   "execution_count": 7,
   "id": "d2295787-9cb8-44db-9e62-ed7df6b0f4d5",
   "metadata": {},
   "outputs": [
    {
     "name": "stdout",
     "output_type": "stream",
     "text": [
      "The random integer rolled is: \n",
      "2\n"
     ]
    }
   ],
   "source": [
    "#1\n",
    "import random\n",
    "\n",
    "def roll():\n",
    "    return random.randint(1, 6)\n",
    "\n",
    "print(f\"The random integer rolled is: \")\n",
    "print(roll())"
   ]
  },
  {
   "cell_type": "code",
   "execution_count": 12,
   "id": "6d9df14c-e984-4b12-9623-fe5720094fa9",
   "metadata": {},
   "outputs": [
    {
     "name": "stdout",
     "output_type": "stream",
     "text": [
      "The average number rolled is: 3.4901\n"
     ]
    }
   ],
   "source": [
    "#2\n",
    "import random\n",
    "\n",
    "rolls = [random.randint(1, 6) for _ in range(10_000)]\n",
    "\n",
    "average_rolls = sum(rolls) / len(rolls)\n",
    "\n",
    "print(f\"The average number rolled is: {average_rolls}\")"
   ]
  },
  {
   "cell_type": "markdown",
   "id": "9d1f3b83-9352-4e12-9f73-ed69c5320b86",
   "metadata": {},
   "source": [
    "# Review Exercises page 33"
   ]
  },
  {
   "cell_type": "code",
   "execution_count": null,
   "id": "b402313b-f3ff-49b4-8b9a-39e226d1024f",
   "metadata": {},
   "outputs": [],
   "source": []
  }
 ],
 "metadata": {
  "kernelspec": {
   "display_name": "Python 3 (ipykernel)",
   "language": "python",
   "name": "python3"
  },
  "language_info": {
   "codemirror_mode": {
    "name": "ipython",
    "version": 3
   },
   "file_extension": ".py",
   "mimetype": "text/x-python",
   "name": "python",
   "nbconvert_exporter": "python",
   "pygments_lexer": "ipython3",
   "version": "3.13.5"
  }
 },
 "nbformat": 4,
 "nbformat_minor": 5
}
