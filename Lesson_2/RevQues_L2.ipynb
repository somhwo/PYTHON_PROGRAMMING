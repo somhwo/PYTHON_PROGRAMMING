{
 "cells": [
  {
   "cell_type": "markdown",
   "id": "b4893686-1351-4a20-8c66-789f83b667c5",
   "metadata": {},
   "source": [
    "# Review Questions page 5"
   ]
  },
  {
   "cell_type": "code",
   "execution_count": 1,
   "id": "f680bf95-6a86-412c-8148-490dd443c0ce",
   "metadata": {},
   "outputs": [
    {
     "name": "stdout",
     "output_type": "stream",
     "text": [
      "(25, 0, 0)\n",
      "25000000\n"
     ]
    }
   ],
   "source": [
    "#1\n",
    "num1 = 25,000,000\n",
    "num2 = 25_000_000\n",
    "\n",
    "print(num1)\n",
    "print(num2)"
   ]
  },
  {
   "cell_type": "code",
   "execution_count": 3,
   "id": "e705b6c2-ffeb-48aa-934d-989d0d6c7c4f",
   "metadata": {},
   "outputs": [
    {
     "name": "stdout",
     "output_type": "stream",
     "text": [
      "175000.0\n"
     ]
    }
   ],
   "source": [
    "#2\n",
    "num = 1.75 * 10**5\n",
    "print(num)"
   ]
  },
  {
   "cell_type": "code",
   "execution_count": 6,
   "id": "a82fb1dd-0164-4596-8ae4-6e0035a075ea",
   "metadata": {},
   "outputs": [
    {
     "name": "stdout",
     "output_type": "stream",
     "text": [
      "inf\n"
     ]
    }
   ],
   "source": [
    "#3\n",
    "print(2e333)"
   ]
  },
  {
   "cell_type": "markdown",
   "id": "01978dd7-c095-4edd-8b7f-bda1ee8b7aa0",
   "metadata": {},
   "source": [
    "# Review Questions page 10"
   ]
  },
  {
   "cell_type": "code",
   "execution_count": 12,
   "id": "41e00fc1-d783-4e2e-a2ee-918b7b10743a",
   "metadata": {},
   "outputs": [
    {
     "name": "stdin",
     "output_type": "stream",
     "text": [
      "Enter a base:  9\n",
      "Enter an exponent:  8\n"
     ]
    },
    {
     "name": "stdout",
     "output_type": "stream",
     "text": [
      "9 to the power of 8 =  43046721.0\n"
     ]
    }
   ],
   "source": [
    "base = input('Enter a base: ')\n",
    "exponent = input('Enter an exponent: ')\n",
    "result = float(base) ** float(exponent)\n",
    "\n",
    "print(base, 'to the power of', exponent, \"= \", result)\n"
   ]
  },
  {
   "cell_type": "markdown",
   "id": "05fa4a76-a4b2-4c2c-8f84-885b720a0ca2",
   "metadata": {},
   "source": [
    "# Review Questions page 13"
   ]
  },
  {
   "cell_type": "code",
   "execution_count": 24,
   "id": "fac0f0bc-4da6-4ccd-92ca-d0c2113b6f58",
   "metadata": {},
   "outputs": [
    {
     "name": "stdin",
     "output_type": "stream",
     "text": [
      "Enter a number:  5.432\n"
     ]
    },
    {
     "name": "stdout",
     "output_type": "stream",
     "text": [
      "5.432 rounded to 2 decimal places is 5.43\n"
     ]
    }
   ],
   "source": [
    "#1\n",
    "number = float(input(\"Enter a number: \"))\n",
    "rounded_number = round(number, 2)\n",
    "print(number, \"rounded to 2 decimal places is\", rounded_number)"
   ]
  },
  {
   "cell_type": "code",
   "execution_count": 31,
   "id": "52970264-8afe-466c-94f6-aa7c7676a0b1",
   "metadata": {},
   "outputs": [
    {
     "name": "stdin",
     "output_type": "stream",
     "text": [
      "Enter a number:  -10\n"
     ]
    },
    {
     "name": "stdout",
     "output_type": "stream",
     "text": [
      "The absolute value of -10 is 10\n"
     ]
    }
   ],
   "source": [
    "#2\n",
    "number = int(input('Enter a number: '))\n",
    "abs_num = abs(number)\n",
    "print('The absolute value of', number, 'is', abs_num)"
   ]
  },
  {
   "cell_type": "markdown",
   "id": "8db0274c-5d44-47dd-ae81-8667b9dbe865",
   "metadata": {},
   "source": [
    "# Review Questions page 14"
   ]
  },
  {
   "cell_type": "code",
   "execution_count": 40,
   "id": "b16536b1-1607-4512-86a3-04612f2d1d0c",
   "metadata": {},
   "outputs": [
    {
     "name": "stdin",
     "output_type": "stream",
     "text": [
      "Enter a number:  1.5\n",
      "Enter another number:  .5\n"
     ]
    },
    {
     "name": "stdout",
     "output_type": "stream",
     "text": [
      "The difference between 1.5 and 0.5 is an integer? True!\n"
     ]
    }
   ],
   "source": [
    "num1 = float(input('Enter a number: '))\n",
    "num2 = float(input('Enter another number: '))\n",
    "difference =  num1 - num2\n",
    "is_diff_int = difference.is_integer()\n",
    "print('The difference between', num1, 'and', num2, 'is an integer?', str(is_diff_int) + '!')"
   ]
  },
  {
   "cell_type": "code",
   "execution_count": null,
   "id": "0dd163e1-8d28-4277-aee5-1e8751b8750d",
   "metadata": {},
   "outputs": [],
   "source": []
  }
 ],
 "metadata": {
  "kernelspec": {
   "display_name": "Python 3 (ipykernel)",
   "language": "python",
   "name": "python3"
  },
  "language_info": {
   "codemirror_mode": {
    "name": "ipython",
    "version": 3
   },
   "file_extension": ".py",
   "mimetype": "text/x-python",
   "name": "python",
   "nbconvert_exporter": "python",
   "pygments_lexer": "ipython3",
   "version": "3.13.5"
  }
 },
 "nbformat": 4,
 "nbformat_minor": 5
}
