{
 "cells": [
  {
   "cell_type": "markdown",
   "id": "bf88ca7f-886b-4050-baf4-aa5a52f2a3b4",
   "metadata": {},
   "source": [
    "# Review Exercises page 14 - 15"
   ]
  },
  {
   "cell_type": "code",
   "execution_count": 22,
   "id": "c76b3398-cf4f-4ceb-bb8a-173f6adaa691",
   "metadata": {},
   "outputs": [
    {
     "name": "stdout",
     "output_type": "stream",
     "text": [
      "Philo's coat is brown.\n"
     ]
    }
   ],
   "source": [
    "#1\n",
    "class Dog:\n",
    "    def __init__(self, name, age, coat_color):\n",
    "        self.name = name\n",
    "        self.age = age\n",
    "        self.coat_color = coat_color\n",
    "\n",
    "philo = Dog(\"Philo\", 5, \"brown\")\n",
    "print(f\"{philo.name}'s coat is {philo.coat_color}.\")"
   ]
  },
  {
   "cell_type": "code",
   "execution_count": 21,
   "id": "ba11b880-c597-4af6-b7cd-980011b02d0f",
   "metadata": {},
   "outputs": [
    {
     "name": "stdout",
     "output_type": "stream",
     "text": [
      "The blue car has 20,000 miles.\n",
      "The red car has 30,000 miles.\n"
     ]
    }
   ],
   "source": [
    "#2\n",
    "class Car:\n",
    "    def __init__(self, color, mileage):\n",
    "        self.color = color\n",
    "        self.mileage = mileage\n",
    "        \n",
    "car1 = Car(\"blue\", 20000)\n",
    "print(f\"The {car1.color} car has {car1.mileage:,} miles.\")\n",
    "car2 = Car(\"red\", 30000)\n",
    "print(f\"The {car2.color} car has {car2.mileage:,} miles.\")\n"
   ]
  },
  {
   "cell_type": "code",
   "execution_count": 13,
   "id": "16b6ee53-cb36-40ba-8e2d-02e8cdd22d8e",
   "metadata": {},
   "outputs": [
    {
     "name": "stdout",
     "output_type": "stream",
     "text": [
      "100\n"
     ]
    }
   ],
   "source": [
    "#3\n",
    "class Car:\n",
    "    def __init__(self, color, mileage):\n",
    "        self.color = color\n",
    "        self.mileage = mileage\n",
    "\n",
    "    def drive(self, miles):\n",
    "        self.mileage = self.mileage + miles\n",
    "\n",
    "car = Car(\"pink\", 0)\n",
    "car.drive(100)\n",
    "print(car.mileage)"
   ]
  },
  {
   "cell_type": "markdown",
   "id": "c5f8140a-5fc6-4eac-9b07-1254c2abec7f",
   "metadata": {},
   "source": [
    "# Review Exercises page 20-21"
   ]
  },
  {
   "cell_type": "code",
   "execution_count": 20,
   "id": "1a436f50-2133-46d0-a934-8a6161413d83",
   "metadata": {},
   "outputs": [
    {
     "name": "stdout",
     "output_type": "stream",
     "text": [
      "Buddy is 3 years old.\n",
      "Buddy says Bark.\n",
      "Buddy says Woof!.\n"
     ]
    }
   ],
   "source": [
    "#1\n",
    "class Dog:\n",
    "    species = \"Canis familiaris\"\n",
    "\n",
    "    def __init__(self, name, age):\n",
    "        self.name = name\n",
    "        self.age = age\n",
    "\n",
    "    def __str__(self):\n",
    "        return f\"{self.name} is {self.age} years old.\"\n",
    "\n",
    "    def speak(self, sound):\n",
    "        print(f\"{self.name} says {sound}.\")\n",
    "\n",
    "\n",
    "class GoldenRetriever(Dog):\n",
    "    def speak(self, sound=\"Bark\"):\n",
    "        super().speak(sound)\n",
    "\n",
    "\n",
    "buddy = GoldenRetriever(\"Buddy\", 3)\n",
    "print(buddy)         \n",
    "buddy.speak()         \n",
    "buddy.speak(\"Woof!\") "
   ]
  },
  {
   "cell_type": "code",
   "execution_count": 19,
   "id": "9e4af5e5-c041-4d2d-8bb0-4a50fd90b852",
   "metadata": {},
   "outputs": [
    {
     "name": "stdout",
     "output_type": "stream",
     "text": [
      "16\n"
     ]
    }
   ],
   "source": [
    "#2\n",
    "class Rectangle:\n",
    "    def __init__(self, length, width):\n",
    "        self.length = length\n",
    "        self.width = width\n",
    "\n",
    "    def area(self):\n",
    "        return self.length * self.width\n",
    "\n",
    "class Square(Rectangle):\n",
    "    def __init__(self, side_length):\n",
    "        super().__init__(side_length, side_length)\n",
    "\n",
    "square = Square(4)\n",
    "print(square.area())"
   ]
  },
  {
   "cell_type": "markdown",
   "id": "65a2636d-65e4-421d-bd4c-c30edae0a949",
   "metadata": {},
   "source": [
    "# Challenge: Model a Farm page 22"
   ]
  },
  {
   "cell_type": "code",
   "execution_count": 24,
   "id": "9f1e2fdc-139a-4c9b-b157-255b68d6caa3",
   "metadata": {},
   "outputs": [
    {
     "name": "stdout",
     "output_type": "stream",
     "text": [
      "=== Talking ===\n",
      "Buddy says Bark Bark!\n",
      "Wooly says Baaa Baaa\n",
      "Porky says Oink Oink\n",
      "\n",
      "=== Moving Around ===\n",
      "Buddy walked to position 5.\n",
      "Buddy ran to position 15.\n",
      "Wooly walked to position 3.\n",
      "Porky ran to position 8.\n",
      "\n",
      "=== Eating and Hunger ===\n",
      "Buddy is hungry.\n",
      "Buddy is eating.\n",
      "Buddy is eating.\n",
      "Buddy is eating.\n",
      "Buddy: Ate too much ... need to find a bathroom!\n",
      "Buddy is hungry.\n",
      "\n",
      "=== Special Behaviors ===\n",
      "Buddy is fetching the ball!\n"
     ]
    }
   ],
   "source": [
    "class Animal:\n",
    "    stuff_in_belly = 0\n",
    "    position = 0\n",
    "\n",
    "    def __init__(self, name, color):\n",
    "        self.name = name\n",
    "        self.color = color\n",
    "\n",
    "    def talk(self, sound=None):\n",
    "        \"\"\"Return the string \"<name> says <sound>\"\n",
    "        If `sound` is left out, returns \"Hello, I'm <name>\"\n",
    "        \"\"\"\n",
    "        if sound is None:\n",
    "            return f\"Hello. I'm {self.name}!\"\n",
    "        return f\"{self.name} says {sound}\"\n",
    "\n",
    "    def walk(self, walk_increment):\n",
    "        self.position += walk_increment\n",
    "        return f\"{self.name} walked to position {self.position}.\"\n",
    "\n",
    "    def run(self, run_increment):\n",
    "        self.position += run_increment\n",
    "        return f\"{self.name} ran to position {self.position}.\"\n",
    "\n",
    "    def feed(self):\n",
    "        self.stuff_in_belly += 1\n",
    "        if self.stuff_in_belly > 3:\n",
    "            return self.poop()\n",
    "        else:\n",
    "            return f\"{self.name} is eating.\"\n",
    "\n",
    "    def is_hungry(self):\n",
    "        if self.stuff_in_belly < 2:\n",
    "            return f\"{self.name} is hungry.\"\n",
    "        else:\n",
    "            return f\"{self.name} is not hungry.\"\n",
    "\n",
    "    def poop(self):\n",
    "        self.stuff_in_belly = 0\n",
    "        return f\"{self.name}: Ate too much ... need to find a bathroom!\"\n",
    "\n",
    "class Dog(Animal):\n",
    "    def talk(self, sound=\"Bark Bark!\"):\n",
    "        return super().talk(sound)\n",
    "\n",
    "    def fetch(self):\n",
    "        return f\"{self.name} is fetching the ball!\"\n",
    "\n",
    "\n",
    "class Sheep(Animal):\n",
    "    def talk(self, sound=\"Baaa Baaa\"):\n",
    "        return super().talk(sound)\n",
    "\n",
    "\n",
    "class Pig(Animal):\n",
    "    def talk(self, sound=\"Oink Oink\"):\n",
    "        return super().talk(sound)\n",
    "\n",
    "\n",
    "dog = Dog(\"Buddy\", \"Brown\")\n",
    "sheep = Sheep(\"Wooly\", \"White\")\n",
    "pig = Pig(\"Porky\", \"Pink\")\n",
    "\n",
    "print(\"=== Talking ===\")\n",
    "print(dog.talk())\n",
    "print(sheep.talk())\n",
    "print(pig.talk())\n",
    "\n",
    "print(\"\\n=== Moving Around ===\")\n",
    "print(dog.walk(5))\n",
    "print(dog.run(10))\n",
    "print(sheep.walk(3))\n",
    "print(pig.run(8))\n",
    "\n",
    "print(\"\\n=== Eating and Hunger ===\")\n",
    "print(dog.is_hungry())\n",
    "print(dog.feed())\n",
    "print(dog.feed())\n",
    "print(dog.feed())\n",
    "print(dog.feed())  \n",
    "print(dog.is_hungry())\n",
    "\n",
    "print(\"\\n=== Special Behaviors ===\")\n",
    "print(dog.fetch())\n"
   ]
  }
 ],
 "metadata": {
  "kernelspec": {
   "display_name": "anaconda-2024.02-py310",
   "language": "python",
   "name": "conda-env-anaconda-2024.02-py310-py"
  },
  "language_info": {
   "codemirror_mode": {
    "name": "ipython",
    "version": 3
   },
   "file_extension": ".py",
   "mimetype": "text/x-python",
   "name": "python",
   "nbconvert_exporter": "python",
   "pygments_lexer": "ipython3",
   "version": "3.10.14"
  }
 },
 "nbformat": 4,
 "nbformat_minor": 5
}
