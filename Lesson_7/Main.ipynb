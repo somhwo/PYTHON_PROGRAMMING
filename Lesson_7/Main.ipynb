{
 "cells": [
  {
   "cell_type": "markdown",
   "id": "7fb24582-5384-4334-bbdd-8664469b8e8b",
   "metadata": {},
   "source": [
    "# Review Exercises Page 14"
   ]
  },
  {
   "cell_type": "code",
   "execution_count": 7,
   "id": "b4334573-76ad-4dbd-b984-2dd8d09c337c",
   "metadata": {},
   "outputs": [
    {
     "data": {
      "text/plain": [
       "'Hello, Real Python!'"
      ]
     },
     "execution_count": 7,
     "metadata": {},
     "output_type": "execute_result"
    }
   ],
   "source": [
    "#1 & #2\n",
    "import Greeter\n",
    "\n",
    "Greeter.greet('Real Python')"
   ]
  },
  {
   "cell_type": "code",
   "execution_count": null,
   "id": "304325a9-f09f-4b97-b9c6-f97e2c7ff3fb",
   "metadata": {},
   "outputs": [],
   "source": []
  }
 ],
 "metadata": {
  "kernelspec": {
   "display_name": "Python [conda env:base] *",
   "language": "python",
   "name": "conda-base-py"
  },
  "language_info": {
   "codemirror_mode": {
    "name": "ipython",
    "version": 3
   },
   "file_extension": ".py",
   "mimetype": "text/x-python",
   "name": "python",
   "nbconvert_exporter": "python",
   "pygments_lexer": "ipython3",
   "version": "3.13.5"
  }
 },
 "nbformat": 4,
 "nbformat_minor": 5
}
