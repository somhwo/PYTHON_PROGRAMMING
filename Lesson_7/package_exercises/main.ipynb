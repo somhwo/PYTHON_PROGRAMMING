{
 "cells": [
  {
   "cell_type": "markdown",
   "id": "a229e231-9024-4b57-8632-c489d33d31fb",
   "metadata": {},
   "source": [
    "# Review Exercises Page 26"
   ]
  },
  {
   "cell_type": "code",
   "execution_count": 1,
   "id": "ba8228de-dc7d-42d0-8c10-dd458f03706a",
   "metadata": {},
   "outputs": [
    {
     "name": "stdout",
     "output_type": "stream",
     "text": [
      "THE AREA OF A 5-BY-8 RECTAINGLE IS 40!\n"
     ]
    }
   ],
   "source": [
    "from helpers.string import shout\n",
    "from helpers.math import area\n",
    "\n",
    "print(shout(f'the area of a 5-by-8 rectaingle is {area(5, 8)}'))"
   ]
  },
  {
   "cell_type": "code",
   "execution_count": null,
   "id": "11ae4fb7-c74e-47a3-8c3d-db1fc21233d2",
   "metadata": {},
   "outputs": [],
   "source": []
  }
 ],
 "metadata": {
  "kernelspec": {
   "display_name": "Python [conda env:base] *",
   "language": "python",
   "name": "conda-base-py"
  },
  "language_info": {
   "codemirror_mode": {
    "name": "ipython",
    "version": 3
   },
   "file_extension": ".py",
   "mimetype": "text/x-python",
   "name": "python",
   "nbconvert_exporter": "python",
   "pygments_lexer": "ipython3",
   "version": "3.13.5"
  }
 },
 "nbformat": 4,
 "nbformat_minor": 5
}
