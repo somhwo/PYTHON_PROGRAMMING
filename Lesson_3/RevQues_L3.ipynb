{
 "cells": [
  {
   "cell_type": "markdown",
   "id": "63fe7ad1-cce9-43b6-9f09-d4def17f5ea7",
   "metadata": {},
   "source": [
    "# Review Questions page 8"
   ]
  },
  {
   "cell_type": "code",
   "execution_count": 2,
   "id": "17b70d5c-7886-4fa1-a04b-af8ca02e832c",
   "metadata": {},
   "outputs": [
    {
     "name": "stdout",
     "output_type": "stream",
     "text": [
      "8\n",
      "27\n"
     ]
    }
   ],
   "source": [
    "#1\n",
    "def cube(number):\n",
    "   return number ** 3\n",
    "\n",
    "print(cube(2))\n",
    "print(cube(3))"
   ]
  },
  {
   "cell_type": "code",
   "execution_count": 6,
   "id": "9adf0522-62a2-4387-b9ce-28e016ac14b4",
   "metadata": {},
   "outputs": [
    {
     "name": "stdout",
     "output_type": "stream",
     "text": [
      "Hello, Sam!\n"
     ]
    }
   ],
   "source": [
    "#2\n",
    "def greet(name):\n",
    "    return(f\"Hello, {name}!\")\n",
    "\n",
    "print(greet(\"Sam\"))"
   ]
  },
  {
   "cell_type": "markdown",
   "id": "f7bf8b46-e36d-468d-8c16-498e2c06caa1",
   "metadata": {},
   "source": [
    "# Challenge: Convert Temperatures"
   ]
  },
  {
   "cell_type": "code",
   "execution_count": 8,
   "id": "8b8c6773-cfea-4bff-9b5f-50f5c7cf5ec3",
   "metadata": {},
   "outputs": [
    {
     "name": "stdin",
     "output_type": "stream",
     "text": [
      "Enter a temperature in degrees F:  72\n"
     ]
    },
    {
     "name": "stdout",
     "output_type": "stream",
     "text": [
      "72.0 degrees F = 22.22 degrees C\n"
     ]
    },
    {
     "name": "stdin",
     "output_type": "stream",
     "text": [
      "Enter a temperature in degrees C:  37\n"
     ]
    },
    {
     "name": "stdout",
     "output_type": "stream",
     "text": [
      "37.0 degrees C = 98.600000 degrees F\n"
     ]
    }
   ],
   "source": [
    "#1\n",
    "def convert_cel_to_far(celsius):\n",
    "    return(celsius * 9/5) + 32\n",
    "#2\n",
    "def convert_far_to_cel(fahrenheit):\n",
    "    return (fahrenheit - 32) * 5/9\n",
    "    \n",
    "f = float(input(\"Enter a temperature in degrees F: \"))\n",
    "c = convert_far_to_cel(f)\n",
    "print(f\"{f} degrees F = {c:.2f} degrees C\")\n",
    "\n",
    "c = float(input(\"Enter a temperature in degrees C: \"))\n",
    "f = convert_cel_to_far(c)\n",
    "print(f\"{c} degrees C = {f:2f} degrees F\")"
   ]
  },
  {
   "cell_type": "markdown",
   "id": "036b1c7e-1dd3-4c5c-875b-2a3d944a3fb5",
   "metadata": {},
   "source": [
    "# Review Questions page 17"
   ]
  },
  {
   "cell_type": "code",
   "execution_count": null,
   "id": "c4136ed1-aa0a-42fa-a5ba-10127bddd8f8",
   "metadata": {},
   "outputs": [],
   "source": [
    "#1 \n",
    "for i in range(2, 11):\n",
    "    print(i)"
   ]
  },
  {
   "cell_type": "code",
   "execution_count": null,
   "id": "7ec88e55-0878-488a-91d2-34c290305921",
   "metadata": {},
   "outputs": [],
   "source": [
    "#2\n",
    "i = 2\n",
    "while i <= 10:\n",
    "    print(i)\n",
    "    i += 1"
   ]
  },
  {
   "cell_type": "code",
   "execution_count": null,
   "id": "fffb2510-c1cb-444d-8f45-cfdfbe604ef2",
   "metadata": {},
   "outputs": [],
   "source": [
    "#3\n",
    "def doubles(n):\n",
    "    return n * 2\n",
    "\n",
    "num = 2\n",
    "for num in range(3):\n",
    "    num = doubles(num)\n",
    "    print(num)"
   ]
  }
 ],
 "metadata": {
  "kernelspec": {
   "display_name": "Python 3 (ipykernel)",
   "language": "python",
   "name": "python3"
  },
  "language_info": {
   "codemirror_mode": {
    "name": "ipython",
    "version": 3
   },
   "file_extension": ".py",
   "mimetype": "text/x-python",
   "name": "python",
   "nbconvert_exporter": "python",
   "pygments_lexer": "ipython3",
   "version": "3.13.5"
  }
 },
 "nbformat": 4,
 "nbformat_minor": 5
}
